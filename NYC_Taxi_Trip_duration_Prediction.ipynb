{
  "nbformat": 4,
  "nbformat_minor": 0,
  "metadata": {
    "colab": {
      "name": "NYC_Taxi_Trip_duration_Prediction.ipynb",
      "provenance": [],
      "collapsed_sections": []
    },
    "kernelspec": {
      "name": "python3",
      "display_name": "Python 3"
    },
    "language_info": {
      "name": "python"
    },
    "accelerator": "GPU"
  },
  "cells": [
    {
      "cell_type": "markdown",
      "metadata": {
        "id": "jqJhvRiKnlt4"
      },
      "source": [
        "## Downloading the data"
      ]
    },
    {
      "cell_type": "code",
      "metadata": {
        "id": "sT8xhqVq_167"
      },
      "source": [
        "import pandas as pd\n",
        "import numpy as np\n",
        "\n",
        "import seaborn as sns\n",
        "import matplotlib.pyplot as plt\n",
        "import plotly.express as px\n",
        "import matplotlib\n",
        "\n",
        "matplotlib.rcParams['figure.figsize'] = 10,10\n"
      ],
      "execution_count": 8,
      "outputs": []
    },
    {
      "cell_type": "code",
      "metadata": {
        "colab": {
          "base_uri": "https://localhost:8080/",
          "height": 605
        },
        "id": "bESBph-Wxlmv",
        "outputId": "42ef3df6-2e57-466b-f4dd-1bc881b53ef2"
      },
      "source": [
        "nyc_df = pd.read_csv('train.csv')\n",
        "nyc_df"
      ],
      "execution_count": 9,
      "outputs": [
        {
          "output_type": "execute_result",
          "data": {
            "text/html": [
              "<div>\n",
              "<style scoped>\n",
              "    .dataframe tbody tr th:only-of-type {\n",
              "        vertical-align: middle;\n",
              "    }\n",
              "\n",
              "    .dataframe tbody tr th {\n",
              "        vertical-align: top;\n",
              "    }\n",
              "\n",
              "    .dataframe thead th {\n",
              "        text-align: right;\n",
              "    }\n",
              "</style>\n",
              "<table border=\"1\" class=\"dataframe\">\n",
              "  <thead>\n",
              "    <tr style=\"text-align: right;\">\n",
              "      <th></th>\n",
              "      <th>id</th>\n",
              "      <th>vendor_id</th>\n",
              "      <th>pickup_datetime</th>\n",
              "      <th>dropoff_datetime</th>\n",
              "      <th>passenger_count</th>\n",
              "      <th>pickup_longitude</th>\n",
              "      <th>pickup_latitude</th>\n",
              "      <th>dropoff_longitude</th>\n",
              "      <th>dropoff_latitude</th>\n",
              "      <th>store_and_fwd_flag</th>\n",
              "      <th>trip_duration</th>\n",
              "    </tr>\n",
              "  </thead>\n",
              "  <tbody>\n",
              "    <tr>\n",
              "      <th>0</th>\n",
              "      <td>id2875421</td>\n",
              "      <td>2</td>\n",
              "      <td>2016-03-14 17:24:55</td>\n",
              "      <td>2016-03-14 17:32:30</td>\n",
              "      <td>1</td>\n",
              "      <td>-73.982155</td>\n",
              "      <td>40.767937</td>\n",
              "      <td>-73.964630</td>\n",
              "      <td>40.765602</td>\n",
              "      <td>N</td>\n",
              "      <td>455.0</td>\n",
              "    </tr>\n",
              "    <tr>\n",
              "      <th>1</th>\n",
              "      <td>id2377394</td>\n",
              "      <td>1</td>\n",
              "      <td>2016-06-12 00:43:35</td>\n",
              "      <td>2016-06-12 00:54:38</td>\n",
              "      <td>1</td>\n",
              "      <td>-73.980415</td>\n",
              "      <td>40.738564</td>\n",
              "      <td>-73.999481</td>\n",
              "      <td>40.731152</td>\n",
              "      <td>N</td>\n",
              "      <td>663.0</td>\n",
              "    </tr>\n",
              "    <tr>\n",
              "      <th>2</th>\n",
              "      <td>id3858529</td>\n",
              "      <td>2</td>\n",
              "      <td>2016-01-19 11:35:24</td>\n",
              "      <td>2016-01-19 12:10:48</td>\n",
              "      <td>1</td>\n",
              "      <td>-73.979027</td>\n",
              "      <td>40.763939</td>\n",
              "      <td>-74.005333</td>\n",
              "      <td>40.710087</td>\n",
              "      <td>N</td>\n",
              "      <td>2124.0</td>\n",
              "    </tr>\n",
              "    <tr>\n",
              "      <th>3</th>\n",
              "      <td>id3504673</td>\n",
              "      <td>2</td>\n",
              "      <td>2016-04-06 19:32:31</td>\n",
              "      <td>2016-04-06 19:39:40</td>\n",
              "      <td>1</td>\n",
              "      <td>-74.010040</td>\n",
              "      <td>40.719971</td>\n",
              "      <td>-74.012268</td>\n",
              "      <td>40.706718</td>\n",
              "      <td>N</td>\n",
              "      <td>429.0</td>\n",
              "    </tr>\n",
              "    <tr>\n",
              "      <th>4</th>\n",
              "      <td>id2181028</td>\n",
              "      <td>2</td>\n",
              "      <td>2016-03-26 13:30:55</td>\n",
              "      <td>2016-03-26 13:38:10</td>\n",
              "      <td>1</td>\n",
              "      <td>-73.973053</td>\n",
              "      <td>40.793209</td>\n",
              "      <td>-73.972923</td>\n",
              "      <td>40.782520</td>\n",
              "      <td>N</td>\n",
              "      <td>435.0</td>\n",
              "    </tr>\n",
              "    <tr>\n",
              "      <th>...</th>\n",
              "      <td>...</td>\n",
              "      <td>...</td>\n",
              "      <td>...</td>\n",
              "      <td>...</td>\n",
              "      <td>...</td>\n",
              "      <td>...</td>\n",
              "      <td>...</td>\n",
              "      <td>...</td>\n",
              "      <td>...</td>\n",
              "      <td>...</td>\n",
              "      <td>...</td>\n",
              "    </tr>\n",
              "    <tr>\n",
              "      <th>30494</th>\n",
              "      <td>id3958766</td>\n",
              "      <td>1</td>\n",
              "      <td>2016-06-15 09:38:55</td>\n",
              "      <td>2016-06-15 09:53:33</td>\n",
              "      <td>1</td>\n",
              "      <td>-73.969635</td>\n",
              "      <td>40.761272</td>\n",
              "      <td>-73.956451</td>\n",
              "      <td>40.785568</td>\n",
              "      <td>N</td>\n",
              "      <td>878.0</td>\n",
              "    </tr>\n",
              "    <tr>\n",
              "      <th>30495</th>\n",
              "      <td>id1644800</td>\n",
              "      <td>1</td>\n",
              "      <td>2016-04-15 12:23:42</td>\n",
              "      <td>2016-04-15 12:28:23</td>\n",
              "      <td>2</td>\n",
              "      <td>-73.979141</td>\n",
              "      <td>40.766617</td>\n",
              "      <td>-73.984123</td>\n",
              "      <td>40.760281</td>\n",
              "      <td>N</td>\n",
              "      <td>281.0</td>\n",
              "    </tr>\n",
              "    <tr>\n",
              "      <th>30496</th>\n",
              "      <td>id2858717</td>\n",
              "      <td>1</td>\n",
              "      <td>2016-02-16 16:56:36</td>\n",
              "      <td>2016-02-16 17:09:02</td>\n",
              "      <td>1</td>\n",
              "      <td>-73.986252</td>\n",
              "      <td>40.752335</td>\n",
              "      <td>-74.006355</td>\n",
              "      <td>40.742344</td>\n",
              "      <td>N</td>\n",
              "      <td>746.0</td>\n",
              "    </tr>\n",
              "    <tr>\n",
              "      <th>30497</th>\n",
              "      <td>id2410242</td>\n",
              "      <td>2</td>\n",
              "      <td>2016-05-13 05:39:47</td>\n",
              "      <td>2016-05-13 06:03:22</td>\n",
              "      <td>1</td>\n",
              "      <td>-74.000877</td>\n",
              "      <td>40.727482</td>\n",
              "      <td>-73.954567</td>\n",
              "      <td>40.805092</td>\n",
              "      <td>N</td>\n",
              "      <td>1415.0</td>\n",
              "    </tr>\n",
              "    <tr>\n",
              "      <th>30498</th>\n",
              "      <td>id2509196</td>\n",
              "      <td>2</td>\n",
              "      <td>2016-02-21 13:50:39</td>\n",
              "      <td>2016-02-21 13:59:16</td>\n",
              "      <td>2</td>\n",
              "      <td>-73.992210</td>\n",
              "      <td>40.749165</td>\n",
              "      <td>-73.981308</td>\n",
              "      <td>NaN</td>\n",
              "      <td>NaN</td>\n",
              "      <td>NaN</td>\n",
              "    </tr>\n",
              "  </tbody>\n",
              "</table>\n",
              "<p>30499 rows × 11 columns</p>\n",
              "</div>"
            ],
            "text/plain": [
              "              id  vendor_id  ... store_and_fwd_flag trip_duration\n",
              "0      id2875421          2  ...                  N         455.0\n",
              "1      id2377394          1  ...                  N         663.0\n",
              "2      id3858529          2  ...                  N        2124.0\n",
              "3      id3504673          2  ...                  N         429.0\n",
              "4      id2181028          2  ...                  N         435.0\n",
              "...          ...        ...  ...                ...           ...\n",
              "30494  id3958766          1  ...                  N         878.0\n",
              "30495  id1644800          1  ...                  N         281.0\n",
              "30496  id2858717          1  ...                  N         746.0\n",
              "30497  id2410242          2  ...                  N        1415.0\n",
              "30498  id2509196          2  ...                NaN           NaN\n",
              "\n",
              "[30499 rows x 11 columns]"
            ]
          },
          "metadata": {
            "tags": []
          },
          "execution_count": 9
        }
      ]
    },
    {
      "cell_type": "code",
      "metadata": {
        "colab": {
          "base_uri": "https://localhost:8080/"
        },
        "id": "9DCQhibwxz6C",
        "outputId": "7bc0f5de-91cf-4b63-970d-0a998aa0f894"
      },
      "source": [
        "nyc_df.info()"
      ],
      "execution_count": 10,
      "outputs": [
        {
          "output_type": "stream",
          "text": [
            "<class 'pandas.core.frame.DataFrame'>\n",
            "RangeIndex: 30499 entries, 0 to 30498\n",
            "Data columns (total 11 columns):\n",
            " #   Column              Non-Null Count  Dtype  \n",
            "---  ------              --------------  -----  \n",
            " 0   id                  30499 non-null  object \n",
            " 1   vendor_id           30499 non-null  int64  \n",
            " 2   pickup_datetime     30499 non-null  object \n",
            " 3   dropoff_datetime    30499 non-null  object \n",
            " 4   passenger_count     30499 non-null  int64  \n",
            " 5   pickup_longitude    30499 non-null  float64\n",
            " 6   pickup_latitude     30499 non-null  float64\n",
            " 7   dropoff_longitude   30499 non-null  float64\n",
            " 8   dropoff_latitude    30498 non-null  float64\n",
            " 9   store_and_fwd_flag  30498 non-null  object \n",
            " 10  trip_duration       30498 non-null  float64\n",
            "dtypes: float64(5), int64(2), object(4)\n",
            "memory usage: 2.6+ MB\n"
          ],
          "name": "stdout"
        }
      ]
    },
    {
      "cell_type": "code",
      "metadata": {
        "colab": {
          "base_uri": "https://localhost:8080/",
          "height": 295
        },
        "id": "KmcwH94Sx1ZF",
        "outputId": "75cfeddd-0948-4752-9b96-c58ecfebdb37"
      },
      "source": [
        "nyc_df.describe()"
      ],
      "execution_count": 11,
      "outputs": [
        {
          "output_type": "execute_result",
          "data": {
            "text/html": [
              "<div>\n",
              "<style scoped>\n",
              "    .dataframe tbody tr th:only-of-type {\n",
              "        vertical-align: middle;\n",
              "    }\n",
              "\n",
              "    .dataframe tbody tr th {\n",
              "        vertical-align: top;\n",
              "    }\n",
              "\n",
              "    .dataframe thead th {\n",
              "        text-align: right;\n",
              "    }\n",
              "</style>\n",
              "<table border=\"1\" class=\"dataframe\">\n",
              "  <thead>\n",
              "    <tr style=\"text-align: right;\">\n",
              "      <th></th>\n",
              "      <th>vendor_id</th>\n",
              "      <th>passenger_count</th>\n",
              "      <th>pickup_longitude</th>\n",
              "      <th>pickup_latitude</th>\n",
              "      <th>dropoff_longitude</th>\n",
              "      <th>dropoff_latitude</th>\n",
              "      <th>trip_duration</th>\n",
              "    </tr>\n",
              "  </thead>\n",
              "  <tbody>\n",
              "    <tr>\n",
              "      <th>count</th>\n",
              "      <td>30499.000000</td>\n",
              "      <td>30499.000000</td>\n",
              "      <td>30499.000000</td>\n",
              "      <td>30499.000000</td>\n",
              "      <td>30499.000000</td>\n",
              "      <td>30498.000000</td>\n",
              "      <td>30498.000000</td>\n",
              "    </tr>\n",
              "    <tr>\n",
              "      <th>mean</th>\n",
              "      <td>1.531001</td>\n",
              "      <td>1.670350</td>\n",
              "      <td>-73.973410</td>\n",
              "      <td>40.751356</td>\n",
              "      <td>-73.972957</td>\n",
              "      <td>40.751994</td>\n",
              "      <td>933.793888</td>\n",
              "    </tr>\n",
              "    <tr>\n",
              "      <th>std</th>\n",
              "      <td>0.499046</td>\n",
              "      <td>1.318061</td>\n",
              "      <td>0.037870</td>\n",
              "      <td>0.027915</td>\n",
              "      <td>0.037272</td>\n",
              "      <td>0.032654</td>\n",
              "      <td>2973.735815</td>\n",
              "    </tr>\n",
              "    <tr>\n",
              "      <th>min</th>\n",
              "      <td>1.000000</td>\n",
              "      <td>1.000000</td>\n",
              "      <td>-74.347069</td>\n",
              "      <td>40.599873</td>\n",
              "      <td>-74.379631</td>\n",
              "      <td>40.556324</td>\n",
              "      <td>2.000000</td>\n",
              "    </tr>\n",
              "    <tr>\n",
              "      <th>25%</th>\n",
              "      <td>1.000000</td>\n",
              "      <td>1.000000</td>\n",
              "      <td>-73.991692</td>\n",
              "      <td>40.737736</td>\n",
              "      <td>-73.991257</td>\n",
              "      <td>40.735864</td>\n",
              "      <td>394.000000</td>\n",
              "    </tr>\n",
              "    <tr>\n",
              "      <th>50%</th>\n",
              "      <td>2.000000</td>\n",
              "      <td>1.000000</td>\n",
              "      <td>-73.981636</td>\n",
              "      <td>40.754734</td>\n",
              "      <td>-73.979622</td>\n",
              "      <td>40.754759</td>\n",
              "      <td>659.000000</td>\n",
              "    </tr>\n",
              "    <tr>\n",
              "      <th>75%</th>\n",
              "      <td>2.000000</td>\n",
              "      <td>2.000000</td>\n",
              "      <td>-73.966866</td>\n",
              "      <td>40.768604</td>\n",
              "      <td>-73.962727</td>\n",
              "      <td>40.770262</td>\n",
              "      <td>1071.000000</td>\n",
              "    </tr>\n",
              "    <tr>\n",
              "      <th>max</th>\n",
              "      <td>2.000000</td>\n",
              "      <td>6.000000</td>\n",
              "      <td>-73.558289</td>\n",
              "      <td>40.882942</td>\n",
              "      <td>-72.711395</td>\n",
              "      <td>41.311520</td>\n",
              "      <td>86357.000000</td>\n",
              "    </tr>\n",
              "  </tbody>\n",
              "</table>\n",
              "</div>"
            ],
            "text/plain": [
              "          vendor_id  passenger_count  ...  dropoff_latitude  trip_duration\n",
              "count  30499.000000     30499.000000  ...      30498.000000   30498.000000\n",
              "mean       1.531001         1.670350  ...         40.751994     933.793888\n",
              "std        0.499046         1.318061  ...          0.032654    2973.735815\n",
              "min        1.000000         1.000000  ...         40.556324       2.000000\n",
              "25%        1.000000         1.000000  ...         40.735864     394.000000\n",
              "50%        2.000000         1.000000  ...         40.754759     659.000000\n",
              "75%        2.000000         2.000000  ...         40.770262    1071.000000\n",
              "max        2.000000         6.000000  ...         41.311520   86357.000000\n",
              "\n",
              "[8 rows x 7 columns]"
            ]
          },
          "metadata": {
            "tags": []
          },
          "execution_count": 11
        }
      ]
    },
    {
      "cell_type": "code",
      "metadata": {
        "colab": {
          "base_uri": "https://localhost:8080/",
          "height": 605
        },
        "id": "4EBnT1xTyS3g",
        "outputId": "a8eb6be8-181a-44e8-d492-251260b10441"
      },
      "source": [
        "test_df = pd.read_csv('test.csv')\n",
        "test_df"
      ],
      "execution_count": 12,
      "outputs": [
        {
          "output_type": "execute_result",
          "data": {
            "text/html": [
              "<div>\n",
              "<style scoped>\n",
              "    .dataframe tbody tr th:only-of-type {\n",
              "        vertical-align: middle;\n",
              "    }\n",
              "\n",
              "    .dataframe tbody tr th {\n",
              "        vertical-align: top;\n",
              "    }\n",
              "\n",
              "    .dataframe thead th {\n",
              "        text-align: right;\n",
              "    }\n",
              "</style>\n",
              "<table border=\"1\" class=\"dataframe\">\n",
              "  <thead>\n",
              "    <tr style=\"text-align: right;\">\n",
              "      <th></th>\n",
              "      <th>id</th>\n",
              "      <th>vendor_id</th>\n",
              "      <th>pickup_datetime</th>\n",
              "      <th>passenger_count</th>\n",
              "      <th>pickup_longitude</th>\n",
              "      <th>pickup_latitude</th>\n",
              "      <th>dropoff_longitude</th>\n",
              "      <th>dropoff_latitude</th>\n",
              "      <th>store_and_fwd_flag</th>\n",
              "    </tr>\n",
              "  </thead>\n",
              "  <tbody>\n",
              "    <tr>\n",
              "      <th>0</th>\n",
              "      <td>id3004672</td>\n",
              "      <td>1</td>\n",
              "      <td>2016-06-30 23:59:58</td>\n",
              "      <td>1</td>\n",
              "      <td>-73.988129</td>\n",
              "      <td>40.732029</td>\n",
              "      <td>-73.990173</td>\n",
              "      <td>40.756680</td>\n",
              "      <td>N</td>\n",
              "    </tr>\n",
              "    <tr>\n",
              "      <th>1</th>\n",
              "      <td>id3505355</td>\n",
              "      <td>1</td>\n",
              "      <td>2016-06-30 23:59:53</td>\n",
              "      <td>1</td>\n",
              "      <td>-73.964203</td>\n",
              "      <td>40.679993</td>\n",
              "      <td>-73.959808</td>\n",
              "      <td>40.655403</td>\n",
              "      <td>N</td>\n",
              "    </tr>\n",
              "    <tr>\n",
              "      <th>2</th>\n",
              "      <td>id1217141</td>\n",
              "      <td>1</td>\n",
              "      <td>2016-06-30 23:59:47</td>\n",
              "      <td>1</td>\n",
              "      <td>-73.997437</td>\n",
              "      <td>40.737583</td>\n",
              "      <td>-73.986160</td>\n",
              "      <td>40.729523</td>\n",
              "      <td>N</td>\n",
              "    </tr>\n",
              "    <tr>\n",
              "      <th>3</th>\n",
              "      <td>id2150126</td>\n",
              "      <td>2</td>\n",
              "      <td>2016-06-30 23:59:41</td>\n",
              "      <td>1</td>\n",
              "      <td>-73.956070</td>\n",
              "      <td>40.771900</td>\n",
              "      <td>-73.986427</td>\n",
              "      <td>40.730469</td>\n",
              "      <td>N</td>\n",
              "    </tr>\n",
              "    <tr>\n",
              "      <th>4</th>\n",
              "      <td>id1598245</td>\n",
              "      <td>1</td>\n",
              "      <td>2016-06-30 23:59:33</td>\n",
              "      <td>1</td>\n",
              "      <td>-73.970215</td>\n",
              "      <td>40.761475</td>\n",
              "      <td>-73.961510</td>\n",
              "      <td>40.755890</td>\n",
              "      <td>N</td>\n",
              "    </tr>\n",
              "    <tr>\n",
              "      <th>...</th>\n",
              "      <td>...</td>\n",
              "      <td>...</td>\n",
              "      <td>...</td>\n",
              "      <td>...</td>\n",
              "      <td>...</td>\n",
              "      <td>...</td>\n",
              "      <td>...</td>\n",
              "      <td>...</td>\n",
              "      <td>...</td>\n",
              "    </tr>\n",
              "    <tr>\n",
              "      <th>37035</th>\n",
              "      <td>id0673650</td>\n",
              "      <td>2</td>\n",
              "      <td>2016-06-19 17:03:34</td>\n",
              "      <td>6</td>\n",
              "      <td>-73.994164</td>\n",
              "      <td>40.751160</td>\n",
              "      <td>-73.972931</td>\n",
              "      <td>40.752460</td>\n",
              "      <td>N</td>\n",
              "    </tr>\n",
              "    <tr>\n",
              "      <th>37036</th>\n",
              "      <td>id2523334</td>\n",
              "      <td>1</td>\n",
              "      <td>2016-06-19 17:03:06</td>\n",
              "      <td>1</td>\n",
              "      <td>-73.966080</td>\n",
              "      <td>40.794724</td>\n",
              "      <td>-73.974434</td>\n",
              "      <td>40.744186</td>\n",
              "      <td>N</td>\n",
              "    </tr>\n",
              "    <tr>\n",
              "      <th>37037</th>\n",
              "      <td>id3547323</td>\n",
              "      <td>1</td>\n",
              "      <td>2016-06-19 17:03:04</td>\n",
              "      <td>1</td>\n",
              "      <td>-73.996262</td>\n",
              "      <td>40.731968</td>\n",
              "      <td>-73.959671</td>\n",
              "      <td>40.720169</td>\n",
              "      <td>N</td>\n",
              "    </tr>\n",
              "    <tr>\n",
              "      <th>37038</th>\n",
              "      <td>id3291679</td>\n",
              "      <td>1</td>\n",
              "      <td>2016-06-19 17:02:31</td>\n",
              "      <td>1</td>\n",
              "      <td>-73.972404</td>\n",
              "      <td>40.786591</td>\n",
              "      <td>-73.955933</td>\n",
              "      <td>40.782887</td>\n",
              "      <td>N</td>\n",
              "    </tr>\n",
              "    <tr>\n",
              "      <th>37039</th>\n",
              "      <td>id2607607</td>\n",
              "      <td>2</td>\n",
              "      <td>2016-06-19 17:01:40</td>\n",
              "      <td>1</td>\n",
              "      <td>-73.967079</td>\n",
              "      <td>40.772630</td>\n",
              "      <td>NaN</td>\n",
              "      <td>NaN</td>\n",
              "      <td>NaN</td>\n",
              "    </tr>\n",
              "  </tbody>\n",
              "</table>\n",
              "<p>37040 rows × 9 columns</p>\n",
              "</div>"
            ],
            "text/plain": [
              "              id  vendor_id  ... dropoff_latitude  store_and_fwd_flag\n",
              "0      id3004672          1  ...        40.756680                   N\n",
              "1      id3505355          1  ...        40.655403                   N\n",
              "2      id1217141          1  ...        40.729523                   N\n",
              "3      id2150126          2  ...        40.730469                   N\n",
              "4      id1598245          1  ...        40.755890                   N\n",
              "...          ...        ...  ...              ...                 ...\n",
              "37035  id0673650          2  ...        40.752460                   N\n",
              "37036  id2523334          1  ...        40.744186                   N\n",
              "37037  id3547323          1  ...        40.720169                   N\n",
              "37038  id3291679          1  ...        40.782887                   N\n",
              "37039  id2607607          2  ...              NaN                 NaN\n",
              "\n",
              "[37040 rows x 9 columns]"
            ]
          },
          "metadata": {
            "tags": []
          },
          "execution_count": 12
        }
      ]
    },
    {
      "cell_type": "markdown",
      "metadata": {
        "id": "p436b7Dpyc91"
      },
      "source": [
        "## Data Preprocessing"
      ]
    },
    {
      "cell_type": "markdown",
      "metadata": {
        "id": "TGSo2FiQzG0P"
      },
      "source": [
        "We can see that the trip_duration field contains values in the range of 1-86390. So let's exclude the data that lies  outisde 2 standard deviations from the mean."
      ]
    },
    {
      "cell_type": "code",
      "metadata": {
        "colab": {
          "base_uri": "https://localhost:8080/"
        },
        "id": "ZdE6Dr7CzFgm",
        "outputId": "b1cbe8d5-e83f-4d4c-b785-fc32b447a506"
      },
      "source": [
        "m = np.mean(nyc_df['trip_duration'])\n",
        "std = np.std(nyc_df['trip_duration'])\n",
        "nyc_df = nyc_df[nyc_df['trip_duration'] <= m + 2*std]\n",
        "nyc_df = nyc_df[nyc_df['trip_duration'] >= m- 2*std]\n",
        "nyc_df.trip_duration"
      ],
      "execution_count": 13,
      "outputs": [
        {
          "output_type": "execute_result",
          "data": {
            "text/plain": [
              "0         455.0\n",
              "1         663.0\n",
              "2        2124.0\n",
              "3         429.0\n",
              "4         435.0\n",
              "          ...  \n",
              "30493     706.0\n",
              "30494     878.0\n",
              "30495     281.0\n",
              "30496     746.0\n",
              "30497    1415.0\n",
              "Name: trip_duration, Length: 30454, dtype: float64"
            ]
          },
          "metadata": {
            "tags": []
          },
          "execution_count": 13
        }
      ]
    },
    {
      "cell_type": "code",
      "metadata": {
        "colab": {
          "base_uri": "https://localhost:8080/"
        },
        "id": "35KAWm5q04Tf",
        "outputId": "c9f5a0d1-64d8-45b4-fc65-eb4f0e918491"
      },
      "source": [
        "print(min(nyc_df['dropoff_latitude']))\n",
        "print(max(nyc_df['dropoff_latitude']))\n",
        "print(min(nyc_df['dropoff_longitude']))\n",
        "print(max(nyc_df['dropoff_longitude']))"
      ],
      "execution_count": 14,
      "outputs": [
        {
          "output_type": "stream",
          "text": [
            "40.55632400512695\n",
            "41.08654022216797\n",
            "-74.37963104248048\n",
            "-73.4439468383789\n"
          ],
          "name": "stdout"
        }
      ]
    },
    {
      "cell_type": "markdown",
      "metadata": {
        "id": "dtcD_IFd0Y74"
      },
      "source": [
        "Now looking into the longitude the coordinates lies between (-74.53,-72.71) and the latitude coordinates lies between (40.44,41.09).\n",
        "But the pickup_latitude and pickup_longitude and dropoff_latitude and dropoff_laongitude lies outside this range. So let's clean them."
      ]
    },
    {
      "cell_type": "code",
      "metadata": {
        "id": "hcuxK-PW0YMC"
      },
      "source": [
        "nyc_df = nyc_df[nyc_df['dropoff_latitude']<=41.09]\n",
        "nyc_df = nyc_df[nyc_df['dropoff_latitude']>=40.44]\n",
        "nyc_df = nyc_df[nyc_df['dropoff_longitude']<=-73.33]\n",
        "nyc_df = nyc_df[nyc_df['dropoff_longitude']>=-74.53]\n",
        "\n",
        "\n",
        "nyc_df = nyc_df[nyc_df['pickup_latitude']<=41.09]\n",
        "nyc_df = nyc_df[nyc_df['pickup_latitude']>=40.44]\n",
        "nyc_df = nyc_df[nyc_df['pickup_longitude']<=-73.33]\n",
        "nyc_df = nyc_df[nyc_df['pickup_longitude']>=-74.53]"
      ],
      "execution_count": 15,
      "outputs": []
    },
    {
      "cell_type": "code",
      "metadata": {
        "colab": {
          "base_uri": "https://localhost:8080/",
          "height": 295
        },
        "id": "vq68kjIS2Xc_",
        "outputId": "55fcc164-8679-4ce8-8f7a-1d0e6c3a59ae"
      },
      "source": [
        "nyc_df.describe()"
      ],
      "execution_count": 16,
      "outputs": [
        {
          "output_type": "execute_result",
          "data": {
            "text/html": [
              "<div>\n",
              "<style scoped>\n",
              "    .dataframe tbody tr th:only-of-type {\n",
              "        vertical-align: middle;\n",
              "    }\n",
              "\n",
              "    .dataframe tbody tr th {\n",
              "        vertical-align: top;\n",
              "    }\n",
              "\n",
              "    .dataframe thead th {\n",
              "        text-align: right;\n",
              "    }\n",
              "</style>\n",
              "<table border=\"1\" class=\"dataframe\">\n",
              "  <thead>\n",
              "    <tr style=\"text-align: right;\">\n",
              "      <th></th>\n",
              "      <th>vendor_id</th>\n",
              "      <th>passenger_count</th>\n",
              "      <th>pickup_longitude</th>\n",
              "      <th>pickup_latitude</th>\n",
              "      <th>dropoff_longitude</th>\n",
              "      <th>dropoff_latitude</th>\n",
              "      <th>trip_duration</th>\n",
              "    </tr>\n",
              "  </thead>\n",
              "  <tbody>\n",
              "    <tr>\n",
              "      <th>count</th>\n",
              "      <td>30454.000000</td>\n",
              "      <td>30454.000000</td>\n",
              "      <td>30454.000000</td>\n",
              "      <td>30454.000000</td>\n",
              "      <td>30454.000000</td>\n",
              "      <td>30454.000000</td>\n",
              "      <td>30454.000000</td>\n",
              "    </tr>\n",
              "    <tr>\n",
              "      <th>mean</th>\n",
              "      <td>1.530407</td>\n",
              "      <td>1.669699</td>\n",
              "      <td>-73.973441</td>\n",
              "      <td>40.751371</td>\n",
              "      <td>-73.973014</td>\n",
              "      <td>40.751984</td>\n",
              "      <td>831.550207</td>\n",
              "    </tr>\n",
              "    <tr>\n",
              "      <th>std</th>\n",
              "      <td>0.499083</td>\n",
              "      <td>1.317500</td>\n",
              "      <td>0.037794</td>\n",
              "      <td>0.027890</td>\n",
              "      <td>0.036525</td>\n",
              "      <td>0.032497</td>\n",
              "      <td>651.510983</td>\n",
              "    </tr>\n",
              "    <tr>\n",
              "      <th>min</th>\n",
              "      <td>1.000000</td>\n",
              "      <td>1.000000</td>\n",
              "      <td>-74.347069</td>\n",
              "      <td>40.599873</td>\n",
              "      <td>-74.379631</td>\n",
              "      <td>40.556324</td>\n",
              "      <td>2.000000</td>\n",
              "    </tr>\n",
              "    <tr>\n",
              "      <th>25%</th>\n",
              "      <td>1.000000</td>\n",
              "      <td>1.000000</td>\n",
              "      <td>-73.991692</td>\n",
              "      <td>40.737753</td>\n",
              "      <td>-73.991257</td>\n",
              "      <td>40.735867</td>\n",
              "      <td>394.000000</td>\n",
              "    </tr>\n",
              "    <tr>\n",
              "      <th>50%</th>\n",
              "      <td>2.000000</td>\n",
              "      <td>1.000000</td>\n",
              "      <td>-73.981636</td>\n",
              "      <td>40.754742</td>\n",
              "      <td>-73.979622</td>\n",
              "      <td>40.754782</td>\n",
              "      <td>658.000000</td>\n",
              "    </tr>\n",
              "    <tr>\n",
              "      <th>75%</th>\n",
              "      <td>2.000000</td>\n",
              "      <td>2.000000</td>\n",
              "      <td>-73.966875</td>\n",
              "      <td>40.768608</td>\n",
              "      <td>-73.962730</td>\n",
              "      <td>40.770267</td>\n",
              "      <td>1068.000000</td>\n",
              "    </tr>\n",
              "    <tr>\n",
              "      <th>max</th>\n",
              "      <td>2.000000</td>\n",
              "      <td>6.000000</td>\n",
              "      <td>-73.558289</td>\n",
              "      <td>40.882942</td>\n",
              "      <td>-73.443947</td>\n",
              "      <td>41.086540</td>\n",
              "      <td>6875.000000</td>\n",
              "    </tr>\n",
              "  </tbody>\n",
              "</table>\n",
              "</div>"
            ],
            "text/plain": [
              "          vendor_id  passenger_count  ...  dropoff_latitude  trip_duration\n",
              "count  30454.000000     30454.000000  ...      30454.000000   30454.000000\n",
              "mean       1.530407         1.669699  ...         40.751984     831.550207\n",
              "std        0.499083         1.317500  ...          0.032497     651.510983\n",
              "min        1.000000         1.000000  ...         40.556324       2.000000\n",
              "25%        1.000000         1.000000  ...         40.735867     394.000000\n",
              "50%        2.000000         1.000000  ...         40.754782     658.000000\n",
              "75%        2.000000         2.000000  ...         40.770267    1068.000000\n",
              "max        2.000000         6.000000  ...         41.086540    6875.000000\n",
              "\n",
              "[8 rows x 7 columns]"
            ]
          },
          "metadata": {
            "tags": []
          },
          "execution_count": 16
        }
      ]
    },
    {
      "cell_type": "markdown",
      "metadata": {
        "id": "xy--vcNN3Lso"
      },
      "source": [
        "Now let's change the data type of pickup_datetime and dropoff_datetime fields as they may be useful later."
      ]
    },
    {
      "cell_type": "code",
      "metadata": {
        "colab": {
          "base_uri": "https://localhost:8080/"
        },
        "id": "NLRTjpv72mMp",
        "outputId": "b2cf5f42-ddc7-4707-a733-fd8a6c6b383a"
      },
      "source": [
        "nyc_df['pickup_datetime'] = nyc_df['pickup_datetime'].astype('datetime64')\n",
        "nyc_df['pickup_date'] = nyc_df['pickup_datetime'].dt.date\n",
        "test_df['pickup_datetime'] = test_df['pickup_datetime'].astype('datetime64')\n",
        "test_df['pickup_date'] = test_df['pickup_datetime'].dt.date\n",
        "nyc_df['pickup_date']"
      ],
      "execution_count": 17,
      "outputs": [
        {
          "output_type": "execute_result",
          "data": {
            "text/plain": [
              "0        2016-03-14\n",
              "1        2016-06-12\n",
              "2        2016-01-19\n",
              "3        2016-04-06\n",
              "4        2016-03-26\n",
              "            ...    \n",
              "30493    2016-04-29\n",
              "30494    2016-06-15\n",
              "30495    2016-04-15\n",
              "30496    2016-02-16\n",
              "30497    2016-05-13\n",
              "Name: pickup_date, Length: 30454, dtype: object"
            ]
          },
          "metadata": {
            "tags": []
          },
          "execution_count": 17
        }
      ]
    },
    {
      "cell_type": "code",
      "metadata": {
        "colab": {
          "base_uri": "https://localhost:8080/"
        },
        "id": "Ydgxt-W43yfJ",
        "outputId": "f6dc129f-d2ce-455d-e301-76c2d8c46190"
      },
      "source": [
        "nyc_df['dropoff_datetime'] = nyc_df['dropoff_datetime'].astype('datetime64')\n",
        "nyc_df['dropoff_date'] = nyc_df['dropoff_datetime'].dt.date\n",
        "nyc_df['dropoff_date']"
      ],
      "execution_count": 18,
      "outputs": [
        {
          "output_type": "execute_result",
          "data": {
            "text/plain": [
              "0        2016-03-14\n",
              "1        2016-06-12\n",
              "2        2016-01-19\n",
              "3        2016-04-06\n",
              "4        2016-03-26\n",
              "            ...    \n",
              "30493    2016-04-29\n",
              "30494    2016-06-15\n",
              "30495    2016-04-15\n",
              "30496    2016-02-16\n",
              "30497    2016-05-13\n",
              "Name: dropoff_date, Length: 30454, dtype: object"
            ]
          },
          "metadata": {
            "tags": []
          },
          "execution_count": 18
        }
      ]
    },
    {
      "cell_type": "code",
      "metadata": {
        "colab": {
          "base_uri": "https://localhost:8080/"
        },
        "id": "QaW4bRJ-CIU5",
        "outputId": "3fb13c3f-51a2-4db8-c306-ad7b8e8daa1e"
      },
      "source": [
        "nyc_df['Month'] = nyc_df['pickup_datetime'].dt.month\n",
        "test_df['Month'] = test_df['pickup_datetime'].dt.month\n",
        "nyc_df['Month']"
      ],
      "execution_count": 19,
      "outputs": [
        {
          "output_type": "execute_result",
          "data": {
            "text/plain": [
              "0        3\n",
              "1        6\n",
              "2        1\n",
              "3        4\n",
              "4        3\n",
              "        ..\n",
              "30493    4\n",
              "30494    6\n",
              "30495    4\n",
              "30496    2\n",
              "30497    5\n",
              "Name: Month, Length: 30454, dtype: int64"
            ]
          },
          "metadata": {
            "tags": []
          },
          "execution_count": 19
        }
      ]
    },
    {
      "cell_type": "code",
      "metadata": {
        "colab": {
          "base_uri": "https://localhost:8080/"
        },
        "id": "YciIeoEsCSun",
        "outputId": "beb9e900-c992-4c19-fff0-e705385d170e"
      },
      "source": [
        "nyc_df['Hour'] = nyc_df['pickup_datetime'].dt.hour\n",
        "test_df['Hour'] = test_df['pickup_datetime'].dt.hour\n",
        "nyc_df['Hour']"
      ],
      "execution_count": 20,
      "outputs": [
        {
          "output_type": "execute_result",
          "data": {
            "text/plain": [
              "0        17\n",
              "1         0\n",
              "2        11\n",
              "3        19\n",
              "4        13\n",
              "         ..\n",
              "30493     9\n",
              "30494     9\n",
              "30495    12\n",
              "30496    16\n",
              "30497     5\n",
              "Name: Hour, Length: 30454, dtype: int64"
            ]
          },
          "metadata": {
            "tags": []
          },
          "execution_count": 20
        }
      ]
    },
    {
      "cell_type": "code",
      "metadata": {
        "colab": {
          "base_uri": "https://localhost:8080/"
        },
        "id": "ps-ukk1LD-G4",
        "outputId": "20cd88ab-d44b-4664-bd18-50fe0ca3415f"
      },
      "source": [
        "nyc_df['Year'] = nyc_df['pickup_datetime'].dt.year\n",
        "nyc_df['Year']"
      ],
      "execution_count": 21,
      "outputs": [
        {
          "output_type": "execute_result",
          "data": {
            "text/plain": [
              "0        2016\n",
              "1        2016\n",
              "2        2016\n",
              "3        2016\n",
              "4        2016\n",
              "         ... \n",
              "30493    2016\n",
              "30494    2016\n",
              "30495    2016\n",
              "30496    2016\n",
              "30497    2016\n",
              "Name: Year, Length: 30454, dtype: int64"
            ]
          },
          "metadata": {
            "tags": []
          },
          "execution_count": 21
        }
      ]
    },
    {
      "cell_type": "markdown",
      "metadata": {
        "id": "ElDdr4fS4WM8"
      },
      "source": [
        "## EDA"
      ]
    },
    {
      "cell_type": "code",
      "metadata": {
        "colab": {
          "base_uri": "https://localhost:8080/"
        },
        "id": "OdPUB7Fg5_oI",
        "outputId": "f81e0906-902b-44cd-b33e-716319ba2b9b"
      },
      "source": [
        "nyc_df.columns"
      ],
      "execution_count": 22,
      "outputs": [
        {
          "output_type": "execute_result",
          "data": {
            "text/plain": [
              "Index(['id', 'vendor_id', 'pickup_datetime', 'dropoff_datetime',\n",
              "       'passenger_count', 'pickup_longitude', 'pickup_latitude',\n",
              "       'dropoff_longitude', 'dropoff_latitude', 'store_and_fwd_flag',\n",
              "       'trip_duration', 'pickup_date', 'dropoff_date', 'Month', 'Hour',\n",
              "       'Year'],\n",
              "      dtype='object')"
            ]
          },
          "metadata": {
            "tags": []
          },
          "execution_count": 22
        }
      ]
    },
    {
      "cell_type": "code",
      "metadata": {
        "colab": {
          "base_uri": "https://localhost:8080/",
          "height": 639
        },
        "id": "vFHS82i74XY4",
        "outputId": "0939a6b9-c2d4-46ab-e69b-d481564a6203"
      },
      "source": [
        "plt.title(\"Distribution of trip duration\")\n",
        "sns.histplot(nyc_df['trip_duration'],bins=100)"
      ],
      "execution_count": 23,
      "outputs": [
        {
          "output_type": "execute_result",
          "data": {
            "text/plain": [
              "<matplotlib.axes._subplots.AxesSubplot at 0x7fb49721e090>"
            ]
          },
          "metadata": {
            "tags": []
          },
          "execution_count": 23
        },
        {
          "output_type": "display_data",
          "data": {
            "image/png": "[encoded data removed]",
            "text/plain": [
              "<Figure size 720x720 with 1 Axes>"
            ]
          },
          "metadata": {
            "tags": [],
            "needs_background": "light"
          }
        }
      ]
    },
    {
      "cell_type": "code",
      "metadata": {
        "colab": {
          "base_uri": "https://localhost:8080/",
          "height": 624
        },
        "id": "J2tdz81i9ysO",
        "outputId": "faa123d0-98d7-4bb8-cb83-f63d9d0a7c31"
      },
      "source": [
        "nyc_df['log_trip_duration']  = np.log(nyc_df['trip_duration'].values+1)\n",
        "plt.title('Distribution of trip duration')\n",
        "sns.histplot(nyc_df['log_trip_duration'].values,bins=100)"
      ],
      "execution_count": 24,
      "outputs": [
        {
          "output_type": "execute_result",
          "data": {
            "text/plain": [
              "<matplotlib.axes._subplots.AxesSubplot at 0x7fb496490310>"
            ]
          },
          "metadata": {
            "tags": []
          },
          "execution_count": 24
        },
        {
          "output_type": "display_data",
          "data": {
            "image/png": "[encoded data removed]",
            "text/plain": [
              "<Figure size 720x720 with 1 Axes>"
            ]
          },
          "metadata": {
            "tags": [],
            "needs_background": "light"
          }
        }
      ]
    },
    {
      "cell_type": "code",
      "metadata": {
        "colab": {
          "base_uri": "https://localhost:8080/",
          "height": 609
        },
        "id": "tsTxewfY-y7E",
        "outputId": "c07d9f62-0283-4ba3-e621-c0e89acdb854"
      },
      "source": [
        "nyc_df.groupby('pickup_date').count()['id']\n",
        "plt.plot(nyc_df.groupby('pickup_date').count()['id'], 'o-', label='train')\n",
        "plt.plot(test_df.groupby('pickup_date').count()['id'], 'o-', label='test')"
      ],
      "execution_count": 25,
      "outputs": [
        {
          "output_type": "execute_result",
          "data": {
            "text/plain": [
              "[<matplotlib.lines.Line2D at 0x7fb495ff11d0>]"
            ]
          },
          "metadata": {
            "tags": []
          },
          "execution_count": 25
        },
        {
          "output_type": "display_data",
          "data": {
            "image/png": "[encoded data removed]",
            "text/plain": [
              "<Figure size 720x720 with 1 Axes>"
            ]
          },
          "metadata": {
            "tags": [],
            "needs_background": "light"
          }
        }
      ]
    },
    {
      "cell_type": "code",
      "metadata": {
        "colab": {
          "base_uri": "https://localhost:8080/",
          "height": 726
        },
        "id": "n1JcgjUPBEaR",
        "outputId": "f34295b5-f3cb-4517-fafa-9885a4c09080"
      },
      "source": [
        "df = nyc_df.groupby('passenger_count')['trip_duration'].mean()\n",
        "plt.title('Distribution of trip_duration with respect to the trip_duration')\n",
        "sns.barplot(df.index,df.values)"
      ],
      "execution_count": 26,
      "outputs": [
        {
          "output_type": "stream",
          "text": [
            "/usr/local/lib/python3.7/dist-packages/seaborn/_decorators.py:43: FutureWarning:\n",
            "\n",
            "Pass the following variables as keyword args: x, y. From version 0.12, the only valid positional argument will be `data`, and passing other arguments without an explicit keyword will result in an error or misinterpretation.\n",
            "\n"
          ],
          "name": "stderr"
        },
        {
          "output_type": "execute_result",
          "data": {
            "text/plain": [
              "<matplotlib.axes._subplots.AxesSubplot at 0x7fb495e97a90>"
            ]
          },
          "metadata": {
            "tags": []
          },
          "execution_count": 26
        },
        {
          "output_type": "display_data",
          "data": {
            "image/png": "[encoded data removed]",
            "text/plain": [
              "<Figure size 720x720 with 1 Axes>"
            ]
          },
          "metadata": {
            "tags": [],
            "needs_background": "light"
          }
        }
      ]
    },
    {
      "cell_type": "markdown",
      "metadata": {
        "id": "e0t_pqTRByu7"
      },
      "source": [
        "We can see that the number of passengers has nothing to do with the trip_duration"
      ]
    },
    {
      "cell_type": "code",
      "metadata": {
        "colab": {
          "base_uri": "https://localhost:8080/",
          "height": 810
        },
        "id": "BR-GeqK76qPX",
        "outputId": "e672c35f-8f3c-4431-ceb9-96ad54936bf8"
      },
      "source": [
        "df = nyc_df.groupby('vendor_id')['trip_duration'].mean()\n",
        "print(df)\n",
        "plt.subplots(1,1,figsize=(15,10))\n",
        "plt.ylim(ymin=800)\n",
        "plt.ylim(ymax=842)\n",
        "sns.barplot(df.index,df.values)\n",
        "plt.title('Time per Vendor')\n",
        "plt.legend(loc=0)\n",
        "plt.ylabel('Time in Seconds')"
      ],
      "execution_count": 27,
      "outputs": [
        {
          "output_type": "stream",
          "text": [
            "/usr/local/lib/python3.7/dist-packages/seaborn/_decorators.py:43: FutureWarning:\n",
            "\n",
            "Pass the following variables as keyword args: x, y. From version 0.12, the only valid positional argument will be `data`, and passing other arguments without an explicit keyword will result in an error or misinterpretation.\n",
            "\n",
            "No handles with labels found to put in legend.\n"
          ],
          "name": "stderr"
        },
        {
          "output_type": "stream",
          "text": [
            "vendor_id\n",
            "1    831.191945\n",
            "2    831.867393\n",
            "Name: trip_duration, dtype: float64\n"
          ],
          "name": "stdout"
        },
        {
          "output_type": "execute_result",
          "data": {
            "text/plain": [
              "Text(0, 0.5, 'Time in Seconds')"
            ]
          },
          "metadata": {
            "tags": []
          },
          "execution_count": 27
        },
        {
          "output_type": "display_data",
          "data": {
            "image/png": "[encoded data removed]",
            "text/plain": [
              "<Figure size 1080x720 with 1 Axes>"
            ]
          },
          "metadata": {
            "tags": [],
            "needs_background": "light"
          }
        }
      ]
    },
    {
      "cell_type": "markdown",
      "metadata": {
        "id": "0Bm7HtZp7fhu"
      },
      "source": [
        "It doesn't seem to be like the trip_duration differs between the vendors."
      ]
    },
    {
      "cell_type": "code",
      "metadata": {
        "colab": {
          "base_uri": "https://localhost:8080/",
          "height": 743
        },
        "id": "qcwhjLcO7lzP",
        "outputId": "7405fa8f-cbd2-4b3c-97a9-4826e99d8ecf"
      },
      "source": [
        "df = nyc_df.groupby('store_and_fwd_flag')['trip_duration'].mean()\n",
        "plt.subplots(1,1,figsize=(15,10))\n",
        "plt.title('Time per store_and_fwd_flag')\n",
        "plt.legend(loc=0)\n",
        "plt.ylabel('Time in Seconds')\n",
        "sns.barplot(df.index,df.values)"
      ],
      "execution_count": 28,
      "outputs": [
        {
          "output_type": "stream",
          "text": [
            "No handles with labels found to put in legend.\n",
            "/usr/local/lib/python3.7/dist-packages/seaborn/_decorators.py:43: FutureWarning:\n",
            "\n",
            "Pass the following variables as keyword args: x, y. From version 0.12, the only valid positional argument will be `data`, and passing other arguments without an explicit keyword will result in an error or misinterpretation.\n",
            "\n"
          ],
          "name": "stderr"
        },
        {
          "output_type": "execute_result",
          "data": {
            "text/plain": [
              "<matplotlib.axes._subplots.AxesSubplot at 0x7fb495d1e6d0>"
            ]
          },
          "metadata": {
            "tags": []
          },
          "execution_count": 28
        },
        {
          "output_type": "display_data",
          "data": {
            "image/png": "[encoded data removed]",
            "text/plain": [
              "<Figure size 1080x720 with 1 Axes>"
            ]
          },
          "metadata": {
            "tags": [],
            "needs_background": "light"
          }
        }
      ]
    },
    {
      "cell_type": "markdown",
      "metadata": {
        "id": "m7IYsDyA9PjB"
      },
      "source": [
        "So it would seem that the store_and_fwd_flag discriminates well between travel times. Clearly there is a slight skew in the data where some of the vendor employees didn't record their travel times accurately."
      ]
    },
    {
      "cell_type": "markdown",
      "metadata": {
        "id": "3R1bZozuDFSk"
      },
      "source": [
        "## Splitting the data"
      ]
    },
    {
      "cell_type": "markdown",
      "metadata": {
        "id": "LjzdbcLZwQXh"
      },
      "source": [
        "Since we need data to train, validate and test them let's split the data using `train_test_split` from sklearn module\n",
        "\n",
        "Refernce:https://scikit-learn.org/stable/modules/generated/sklearn.model_selection.train_test_split.html"
      ]
    },
    {
      "cell_type": "code",
      "metadata": {
        "id": "1WyXY3nuDERO"
      },
      "source": [
        "from sklearn.model_selection import train_test_split\n",
        "train_val_df , test_df = train_test_split(nyc_df,test_size=0.2,random_state=42)\n",
        "train_df , val_df = train_test_split(train_val_df,test_size=0.25,random_state=42)"
      ],
      "execution_count": 29,
      "outputs": []
    },
    {
      "cell_type": "code",
      "metadata": {
        "colab": {
          "base_uri": "https://localhost:8080/",
          "height": 605
        },
        "id": "fC8xa5dkD1yH",
        "outputId": "7c166e8f-f2fc-4e7c-c048-3c4f07081c4c"
      },
      "source": [
        "train_df"
      ],
      "execution_count": 30,
      "outputs": [
        {
          "output_type": "execute_result",
          "data": {
            "text/html": [
              "<div>\n",
              "<style scoped>\n",
              "    .dataframe tbody tr th:only-of-type {\n",
              "        vertical-align: middle;\n",
              "    }\n",
              "\n",
              "    .dataframe tbody tr th {\n",
              "        vertical-align: top;\n",
              "    }\n",
              "\n",
              "    .dataframe thead th {\n",
              "        text-align: right;\n",
              "    }\n",
              "</style>\n",
              "<table border=\"1\" class=\"dataframe\">\n",
              "  <thead>\n",
              "    <tr style=\"text-align: right;\">\n",
              "      <th></th>\n",
              "      <th>id</th>\n",
              "      <th>vendor_id</th>\n",
              "      <th>pickup_datetime</th>\n",
              "      <th>dropoff_datetime</th>\n",
              "      <th>passenger_count</th>\n",
              "      <th>pickup_longitude</th>\n",
              "      <th>pickup_latitude</th>\n",
              "      <th>dropoff_longitude</th>\n",
              "      <th>dropoff_latitude</th>\n",
              "      <th>store_and_fwd_flag</th>\n",
              "      <th>trip_duration</th>\n",
              "      <th>pickup_date</th>\n",
              "      <th>dropoff_date</th>\n",
              "      <th>Month</th>\n",
              "      <th>Hour</th>\n",
              "      <th>Year</th>\n",
              "      <th>log_trip_duration</th>\n",
              "    </tr>\n",
              "  </thead>\n",
              "  <tbody>\n",
              "    <tr>\n",
              "      <th>17338</th>\n",
              "      <td>id3689545</td>\n",
              "      <td>2</td>\n",
              "      <td>2016-01-01 18:48:17</td>\n",
              "      <td>2016-01-01 19:04:56</td>\n",
              "      <td>1</td>\n",
              "      <td>-73.975029</td>\n",
              "      <td>40.759354</td>\n",
              "      <td>-73.990715</td>\n",
              "      <td>40.750275</td>\n",
              "      <td>N</td>\n",
              "      <td>999.0</td>\n",
              "      <td>2016-01-01</td>\n",
              "      <td>2016-01-01</td>\n",
              "      <td>1</td>\n",
              "      <td>18</td>\n",
              "      <td>2016</td>\n",
              "      <td>6.907755</td>\n",
              "    </tr>\n",
              "    <tr>\n",
              "      <th>8175</th>\n",
              "      <td>id1014973</td>\n",
              "      <td>2</td>\n",
              "      <td>2016-02-21 12:34:57</td>\n",
              "      <td>2016-02-21 12:43:38</td>\n",
              "      <td>1</td>\n",
              "      <td>-73.951912</td>\n",
              "      <td>40.786228</td>\n",
              "      <td>-73.952362</td>\n",
              "      <td>40.803272</td>\n",
              "      <td>N</td>\n",
              "      <td>521.0</td>\n",
              "      <td>2016-02-21</td>\n",
              "      <td>2016-02-21</td>\n",
              "      <td>2</td>\n",
              "      <td>12</td>\n",
              "      <td>2016</td>\n",
              "      <td>6.257668</td>\n",
              "    </tr>\n",
              "    <tr>\n",
              "      <th>14981</th>\n",
              "      <td>id3810930</td>\n",
              "      <td>1</td>\n",
              "      <td>2016-06-20 20:11:49</td>\n",
              "      <td>2016-06-20 20:26:08</td>\n",
              "      <td>1</td>\n",
              "      <td>-73.966820</td>\n",
              "      <td>40.760796</td>\n",
              "      <td>-73.991730</td>\n",
              "      <td>40.744148</td>\n",
              "      <td>N</td>\n",
              "      <td>859.0</td>\n",
              "      <td>2016-06-20</td>\n",
              "      <td>2016-06-20</td>\n",
              "      <td>6</td>\n",
              "      <td>20</td>\n",
              "      <td>2016</td>\n",
              "      <td>6.756932</td>\n",
              "    </tr>\n",
              "    <tr>\n",
              "      <th>28176</th>\n",
              "      <td>id1246654</td>\n",
              "      <td>2</td>\n",
              "      <td>2016-06-01 08:12:40</td>\n",
              "      <td>2016-06-01 08:17:24</td>\n",
              "      <td>1</td>\n",
              "      <td>-73.996391</td>\n",
              "      <td>40.753201</td>\n",
              "      <td>-74.004707</td>\n",
              "      <td>40.741829</td>\n",
              "      <td>N</td>\n",
              "      <td>284.0</td>\n",
              "      <td>2016-06-01</td>\n",
              "      <td>2016-06-01</td>\n",
              "      <td>6</td>\n",
              "      <td>8</td>\n",
              "      <td>2016</td>\n",
              "      <td>5.652489</td>\n",
              "    </tr>\n",
              "    <tr>\n",
              "      <th>25595</th>\n",
              "      <td>id3639719</td>\n",
              "      <td>1</td>\n",
              "      <td>2016-03-25 09:57:42</td>\n",
              "      <td>2016-03-25 10:08:31</td>\n",
              "      <td>1</td>\n",
              "      <td>-74.001122</td>\n",
              "      <td>40.736221</td>\n",
              "      <td>-74.000954</td>\n",
              "      <td>40.723099</td>\n",
              "      <td>N</td>\n",
              "      <td>649.0</td>\n",
              "      <td>2016-03-25</td>\n",
              "      <td>2016-03-25</td>\n",
              "      <td>3</td>\n",
              "      <td>9</td>\n",
              "      <td>2016</td>\n",
              "      <td>6.476972</td>\n",
              "    </tr>\n",
              "    <tr>\n",
              "      <th>...</th>\n",
              "      <td>...</td>\n",
              "      <td>...</td>\n",
              "      <td>...</td>\n",
              "      <td>...</td>\n",
              "      <td>...</td>\n",
              "      <td>...</td>\n",
              "      <td>...</td>\n",
              "      <td>...</td>\n",
              "      <td>...</td>\n",
              "      <td>...</td>\n",
              "      <td>...</td>\n",
              "      <td>...</td>\n",
              "      <td>...</td>\n",
              "      <td>...</td>\n",
              "      <td>...</td>\n",
              "      <td>...</td>\n",
              "      <td>...</td>\n",
              "    </tr>\n",
              "    <tr>\n",
              "      <th>19506</th>\n",
              "      <td>id1646673</td>\n",
              "      <td>2</td>\n",
              "      <td>2016-05-12 23:58:30</td>\n",
              "      <td>2016-05-13 00:22:38</td>\n",
              "      <td>1</td>\n",
              "      <td>-73.789825</td>\n",
              "      <td>40.646954</td>\n",
              "      <td>-73.989845</td>\n",
              "      <td>40.600548</td>\n",
              "      <td>N</td>\n",
              "      <td>1448.0</td>\n",
              "      <td>2016-05-12</td>\n",
              "      <td>2016-05-13</td>\n",
              "      <td>5</td>\n",
              "      <td>23</td>\n",
              "      <td>2016</td>\n",
              "      <td>7.278629</td>\n",
              "    </tr>\n",
              "    <tr>\n",
              "      <th>20579</th>\n",
              "      <td>id3796105</td>\n",
              "      <td>1</td>\n",
              "      <td>2016-04-14 04:12:53</td>\n",
              "      <td>2016-04-14 04:28:36</td>\n",
              "      <td>1</td>\n",
              "      <td>-73.986778</td>\n",
              "      <td>40.747719</td>\n",
              "      <td>-73.871071</td>\n",
              "      <td>40.774258</td>\n",
              "      <td>N</td>\n",
              "      <td>943.0</td>\n",
              "      <td>2016-04-14</td>\n",
              "      <td>2016-04-14</td>\n",
              "      <td>4</td>\n",
              "      <td>4</td>\n",
              "      <td>2016</td>\n",
              "      <td>6.850126</td>\n",
              "    </tr>\n",
              "    <tr>\n",
              "      <th>14332</th>\n",
              "      <td>id0853630</td>\n",
              "      <td>1</td>\n",
              "      <td>2016-02-20 22:07:34</td>\n",
              "      <td>2016-02-20 22:13:22</td>\n",
              "      <td>1</td>\n",
              "      <td>-73.981567</td>\n",
              "      <td>40.772785</td>\n",
              "      <td>-73.961739</td>\n",
              "      <td>40.773720</td>\n",
              "      <td>N</td>\n",
              "      <td>348.0</td>\n",
              "      <td>2016-02-20</td>\n",
              "      <td>2016-02-20</td>\n",
              "      <td>2</td>\n",
              "      <td>22</td>\n",
              "      <td>2016</td>\n",
              "      <td>5.855072</td>\n",
              "    </tr>\n",
              "    <tr>\n",
              "      <th>21811</th>\n",
              "      <td>id1649463</td>\n",
              "      <td>1</td>\n",
              "      <td>2016-02-22 15:08:06</td>\n",
              "      <td>2016-02-22 15:15:50</td>\n",
              "      <td>1</td>\n",
              "      <td>-73.977699</td>\n",
              "      <td>40.684517</td>\n",
              "      <td>-73.995338</td>\n",
              "      <td>40.716061</td>\n",
              "      <td>N</td>\n",
              "      <td>464.0</td>\n",
              "      <td>2016-02-22</td>\n",
              "      <td>2016-02-22</td>\n",
              "      <td>2</td>\n",
              "      <td>15</td>\n",
              "      <td>2016</td>\n",
              "      <td>6.142037</td>\n",
              "    </tr>\n",
              "    <tr>\n",
              "      <th>3271</th>\n",
              "      <td>id3280681</td>\n",
              "      <td>1</td>\n",
              "      <td>2016-06-22 08:15:24</td>\n",
              "      <td>2016-06-22 08:29:12</td>\n",
              "      <td>1</td>\n",
              "      <td>-73.984077</td>\n",
              "      <td>40.738270</td>\n",
              "      <td>-73.972351</td>\n",
              "      <td>40.758945</td>\n",
              "      <td>N</td>\n",
              "      <td>828.0</td>\n",
              "      <td>2016-06-22</td>\n",
              "      <td>2016-06-22</td>\n",
              "      <td>6</td>\n",
              "      <td>8</td>\n",
              "      <td>2016</td>\n",
              "      <td>6.720220</td>\n",
              "    </tr>\n",
              "  </tbody>\n",
              "</table>\n",
              "<p>18272 rows × 17 columns</p>\n",
              "</div>"
            ],
            "text/plain": [
              "              id  vendor_id     pickup_datetime  ... Hour  Year  log_trip_duration\n",
              "17338  id3689545          2 2016-01-01 18:48:17  ...   18  2016           6.907755\n",
              "8175   id1014973          2 2016-02-21 12:34:57  ...   12  2016           6.257668\n",
              "14981  id3810930          1 2016-06-20 20:11:49  ...   20  2016           6.756932\n",
              "28176  id1246654          2 2016-06-01 08:12:40  ...    8  2016           5.652489\n",
              "25595  id3639719          1 2016-03-25 09:57:42  ...    9  2016           6.476972\n",
              "...          ...        ...                 ...  ...  ...   ...                ...\n",
              "19506  id1646673          2 2016-05-12 23:58:30  ...   23  2016           7.278629\n",
              "20579  id3796105          1 2016-04-14 04:12:53  ...    4  2016           6.850126\n",
              "14332  id0853630          1 2016-02-20 22:07:34  ...   22  2016           5.855072\n",
              "21811  id1649463          1 2016-02-22 15:08:06  ...   15  2016           6.142037\n",
              "3271   id3280681          1 2016-06-22 08:15:24  ...    8  2016           6.720220\n",
              "\n",
              "[18272 rows x 17 columns]"
            ]
          },
          "metadata": {
            "tags": []
          },
          "execution_count": 30
        }
      ]
    },
    {
      "cell_type": "code",
      "metadata": {
        "colab": {
          "base_uri": "https://localhost:8080/"
        },
        "id": "_QsmkpvWD5g_",
        "outputId": "4210fdc9-054b-4afd-8e8c-57d37fc32d16"
      },
      "source": [
        "train_df.info()"
      ],
      "execution_count": 31,
      "outputs": [
        {
          "output_type": "stream",
          "text": [
            "<class 'pandas.core.frame.DataFrame'>\n",
            "Int64Index: 18272 entries, 17338 to 3271\n",
            "Data columns (total 17 columns):\n",
            " #   Column              Non-Null Count  Dtype         \n",
            "---  ------              --------------  -----         \n",
            " 0   id                  18272 non-null  object        \n",
            " 1   vendor_id           18272 non-null  int64         \n",
            " 2   pickup_datetime     18272 non-null  datetime64[ns]\n",
            " 3   dropoff_datetime    18272 non-null  datetime64[ns]\n",
            " 4   passenger_count     18272 non-null  int64         \n",
            " 5   pickup_longitude    18272 non-null  float64       \n",
            " 6   pickup_latitude     18272 non-null  float64       \n",
            " 7   dropoff_longitude   18272 non-null  float64       \n",
            " 8   dropoff_latitude    18272 non-null  float64       \n",
            " 9   store_and_fwd_flag  18272 non-null  object        \n",
            " 10  trip_duration       18272 non-null  float64       \n",
            " 11  pickup_date         18272 non-null  object        \n",
            " 12  dropoff_date        18272 non-null  object        \n",
            " 13  Month               18272 non-null  int64         \n",
            " 14  Hour                18272 non-null  int64         \n",
            " 15  Year                18272 non-null  int64         \n",
            " 16  log_trip_duration   18272 non-null  float64       \n",
            "dtypes: datetime64[ns](2), float64(6), int64(5), object(4)\n",
            "memory usage: 2.5+ MB\n"
          ],
          "name": "stdout"
        }
      ]
    },
    {
      "cell_type": "markdown",
      "metadata": {
        "id": "S97-G8VKKP5U"
      },
      "source": [
        "### Identifying input and output columns"
      ]
    },
    {
      "cell_type": "code",
      "metadata": {
        "colab": {
          "base_uri": "https://localhost:8080/",
          "height": 408
        },
        "id": "0SwgbYstLAu3",
        "outputId": "b16ea091-67ea-4d7d-d395-5b4c158a7b14"
      },
      "source": [
        "train_df.corr()"
      ],
      "execution_count": 32,
      "outputs": [
        {
          "output_type": "execute_result",
          "data": {
            "text/html": [
              "<div>\n",
              "<style scoped>\n",
              "    .dataframe tbody tr th:only-of-type {\n",
              "        vertical-align: middle;\n",
              "    }\n",
              "\n",
              "    .dataframe tbody tr th {\n",
              "        vertical-align: top;\n",
              "    }\n",
              "\n",
              "    .dataframe thead th {\n",
              "        text-align: right;\n",
              "    }\n",
              "</style>\n",
              "<table border=\"1\" class=\"dataframe\">\n",
              "  <thead>\n",
              "    <tr style=\"text-align: right;\">\n",
              "      <th></th>\n",
              "      <th>vendor_id</th>\n",
              "      <th>passenger_count</th>\n",
              "      <th>pickup_longitude</th>\n",
              "      <th>pickup_latitude</th>\n",
              "      <th>dropoff_longitude</th>\n",
              "      <th>dropoff_latitude</th>\n",
              "      <th>trip_duration</th>\n",
              "      <th>Month</th>\n",
              "      <th>Hour</th>\n",
              "      <th>Year</th>\n",
              "      <th>log_trip_duration</th>\n",
              "    </tr>\n",
              "  </thead>\n",
              "  <tbody>\n",
              "    <tr>\n",
              "      <th>vendor_id</th>\n",
              "      <td>1.000000</td>\n",
              "      <td>0.293225</td>\n",
              "      <td>0.009506</td>\n",
              "      <td>0.005113</td>\n",
              "      <td>-0.003012</td>\n",
              "      <td>0.018817</td>\n",
              "      <td>-0.002877</td>\n",
              "      <td>-0.004386</td>\n",
              "      <td>0.009644</td>\n",
              "      <td>NaN</td>\n",
              "      <td>0.002484</td>\n",
              "    </tr>\n",
              "    <tr>\n",
              "      <th>passenger_count</th>\n",
              "      <td>0.293225</td>\n",
              "      <td>1.000000</td>\n",
              "      <td>0.002393</td>\n",
              "      <td>-0.006830</td>\n",
              "      <td>-0.008039</td>\n",
              "      <td>0.002513</td>\n",
              "      <td>0.010793</td>\n",
              "      <td>-0.004336</td>\n",
              "      <td>0.008988</td>\n",
              "      <td>NaN</td>\n",
              "      <td>0.020227</td>\n",
              "    </tr>\n",
              "    <tr>\n",
              "      <th>pickup_longitude</th>\n",
              "      <td>0.009506</td>\n",
              "      <td>0.002393</td>\n",
              "      <td>1.000000</td>\n",
              "      <td>-0.136015</td>\n",
              "      <td>0.296078</td>\n",
              "      <td>0.053649</td>\n",
              "      <td>0.333565</td>\n",
              "      <td>0.017248</td>\n",
              "      <td>0.011534</td>\n",
              "      <td>NaN</td>\n",
              "      <td>0.186674</td>\n",
              "    </tr>\n",
              "    <tr>\n",
              "      <th>pickup_latitude</th>\n",
              "      <td>0.005113</td>\n",
              "      <td>-0.006830</td>\n",
              "      <td>-0.136015</td>\n",
              "      <td>1.000000</td>\n",
              "      <td>0.057678</td>\n",
              "      <td>0.425166</td>\n",
              "      <td>-0.226954</td>\n",
              "      <td>-0.013104</td>\n",
              "      <td>0.013319</td>\n",
              "      <td>NaN</td>\n",
              "      <td>-0.159185</td>\n",
              "    </tr>\n",
              "    <tr>\n",
              "      <th>dropoff_longitude</th>\n",
              "      <td>-0.003012</td>\n",
              "      <td>-0.008039</td>\n",
              "      <td>0.296078</td>\n",
              "      <td>0.057678</td>\n",
              "      <td>1.000000</td>\n",
              "      <td>0.104744</td>\n",
              "      <td>0.227505</td>\n",
              "      <td>0.016762</td>\n",
              "      <td>-0.035576</td>\n",
              "      <td>NaN</td>\n",
              "      <td>0.134866</td>\n",
              "    </tr>\n",
              "    <tr>\n",
              "      <th>dropoff_latitude</th>\n",
              "      <td>0.018817</td>\n",
              "      <td>0.002513</td>\n",
              "      <td>0.053649</td>\n",
              "      <td>0.425166</td>\n",
              "      <td>0.104744</td>\n",
              "      <td>1.000000</td>\n",
              "      <td>-0.181113</td>\n",
              "      <td>-0.007400</td>\n",
              "      <td>0.021453</td>\n",
              "      <td>NaN</td>\n",
              "      <td>-0.136162</td>\n",
              "    </tr>\n",
              "    <tr>\n",
              "      <th>trip_duration</th>\n",
              "      <td>-0.002877</td>\n",
              "      <td>0.010793</td>\n",
              "      <td>0.333565</td>\n",
              "      <td>-0.226954</td>\n",
              "      <td>0.227505</td>\n",
              "      <td>-0.181113</td>\n",
              "      <td>1.000000</td>\n",
              "      <td>0.065593</td>\n",
              "      <td>0.032819</td>\n",
              "      <td>NaN</td>\n",
              "      <td>0.862182</td>\n",
              "    </tr>\n",
              "    <tr>\n",
              "      <th>Month</th>\n",
              "      <td>-0.004386</td>\n",
              "      <td>-0.004336</td>\n",
              "      <td>0.017248</td>\n",
              "      <td>-0.013104</td>\n",
              "      <td>0.016762</td>\n",
              "      <td>-0.007400</td>\n",
              "      <td>0.065593</td>\n",
              "      <td>1.000000</td>\n",
              "      <td>0.009177</td>\n",
              "      <td>NaN</td>\n",
              "      <td>0.053088</td>\n",
              "    </tr>\n",
              "    <tr>\n",
              "      <th>Hour</th>\n",
              "      <td>0.009644</td>\n",
              "      <td>0.008988</td>\n",
              "      <td>0.011534</td>\n",
              "      <td>0.013319</td>\n",
              "      <td>-0.035576</td>\n",
              "      <td>0.021453</td>\n",
              "      <td>0.032819</td>\n",
              "      <td>0.009177</td>\n",
              "      <td>1.000000</td>\n",
              "      <td>NaN</td>\n",
              "      <td>0.051939</td>\n",
              "    </tr>\n",
              "    <tr>\n",
              "      <th>Year</th>\n",
              "      <td>NaN</td>\n",
              "      <td>NaN</td>\n",
              "      <td>NaN</td>\n",
              "      <td>NaN</td>\n",
              "      <td>NaN</td>\n",
              "      <td>NaN</td>\n",
              "      <td>NaN</td>\n",
              "      <td>NaN</td>\n",
              "      <td>NaN</td>\n",
              "      <td>NaN</td>\n",
              "      <td>NaN</td>\n",
              "    </tr>\n",
              "    <tr>\n",
              "      <th>log_trip_duration</th>\n",
              "      <td>0.002484</td>\n",
              "      <td>0.020227</td>\n",
              "      <td>0.186674</td>\n",
              "      <td>-0.159185</td>\n",
              "      <td>0.134866</td>\n",
              "      <td>-0.136162</td>\n",
              "      <td>0.862182</td>\n",
              "      <td>0.053088</td>\n",
              "      <td>0.051939</td>\n",
              "      <td>NaN</td>\n",
              "      <td>1.000000</td>\n",
              "    </tr>\n",
              "  </tbody>\n",
              "</table>\n",
              "</div>"
            ],
            "text/plain": [
              "                   vendor_id  passenger_count  ...  Year  log_trip_duration\n",
              "vendor_id           1.000000         0.293225  ...   NaN           0.002484\n",
              "passenger_count     0.293225         1.000000  ...   NaN           0.020227\n",
              "pickup_longitude    0.009506         0.002393  ...   NaN           0.186674\n",
              "pickup_latitude     0.005113        -0.006830  ...   NaN          -0.159185\n",
              "dropoff_longitude  -0.003012        -0.008039  ...   NaN           0.134866\n",
              "dropoff_latitude    0.018817         0.002513  ...   NaN          -0.136162\n",
              "trip_duration      -0.002877         0.010793  ...   NaN           0.862182\n",
              "Month              -0.004386        -0.004336  ...   NaN           0.053088\n",
              "Hour                0.009644         0.008988  ...   NaN           0.051939\n",
              "Year                     NaN              NaN  ...   NaN                NaN\n",
              "log_trip_duration   0.002484         0.020227  ...   NaN           1.000000\n",
              "\n",
              "[11 rows x 11 columns]"
            ]
          },
          "metadata": {
            "tags": []
          },
          "execution_count": 32
        }
      ]
    },
    {
      "cell_type": "code",
      "metadata": {
        "id": "Wa4yVdO5KOi0"
      },
      "source": [
        "input_col = ['vendor_id','pickup_datetime','passenger_count','pickup_latitude','dropoff_latitude','dropoff_longitude','store_and_fwd_flag']\n",
        "target_col = 'trip_duration'"
      ],
      "execution_count": 33,
      "outputs": []
    },
    {
      "cell_type": "code",
      "metadata": {
        "id": "DeUAZC5SMd0S"
      },
      "source": [
        "train_inputs = train_df[input_col].copy()\n",
        "train_targets = train_df[target_col].copy()"
      ],
      "execution_count": 34,
      "outputs": []
    },
    {
      "cell_type": "code",
      "metadata": {
        "id": "07Tz-oiBMmzk"
      },
      "source": [
        "val_inputs = val_df[input_col].copy()\n",
        "val_targets = val_df[target_col].copy()"
      ],
      "execution_count": 35,
      "outputs": []
    },
    {
      "cell_type": "code",
      "metadata": {
        "id": "2VGNFstCMrqq"
      },
      "source": [
        "test_inputs = test_df[input_col].copy()\n",
        "test_targets = test_df[target_col].copy()"
      ],
      "execution_count": 36,
      "outputs": []
    },
    {
      "cell_type": "code",
      "metadata": {
        "id": "ECvvSRaMM41V"
      },
      "source": [
        "numeric_col = train_inputs.select_dtypes(include=np.number).columns.tolist()\n",
        "cate_col = train_inputs.select_dtypes('object').columns.tolist()"
      ],
      "execution_count": 37,
      "outputs": []
    },
    {
      "cell_type": "code",
      "metadata": {
        "colab": {
          "base_uri": "https://localhost:8080/",
          "height": 417
        },
        "id": "9mvYfEWfNQpT",
        "outputId": "6e6bdc9c-f320-4eae-f751-06ab53f0f85d"
      },
      "source": [
        "train_inputs[numeric_col]"
      ],
      "execution_count": 38,
      "outputs": [
        {
          "output_type": "execute_result",
          "data": {
            "text/html": [
              "<div>\n",
              "<style scoped>\n",
              "    .dataframe tbody tr th:only-of-type {\n",
              "        vertical-align: middle;\n",
              "    }\n",
              "\n",
              "    .dataframe tbody tr th {\n",
              "        vertical-align: top;\n",
              "    }\n",
              "\n",
              "    .dataframe thead th {\n",
              "        text-align: right;\n",
              "    }\n",
              "</style>\n",
              "<table border=\"1\" class=\"dataframe\">\n",
              "  <thead>\n",
              "    <tr style=\"text-align: right;\">\n",
              "      <th></th>\n",
              "      <th>vendor_id</th>\n",
              "      <th>passenger_count</th>\n",
              "      <th>pickup_latitude</th>\n",
              "      <th>dropoff_latitude</th>\n",
              "      <th>dropoff_longitude</th>\n",
              "    </tr>\n",
              "  </thead>\n",
              "  <tbody>\n",
              "    <tr>\n",
              "      <th>17338</th>\n",
              "      <td>2</td>\n",
              "      <td>1</td>\n",
              "      <td>40.759354</td>\n",
              "      <td>40.750275</td>\n",
              "      <td>-73.990715</td>\n",
              "    </tr>\n",
              "    <tr>\n",
              "      <th>8175</th>\n",
              "      <td>2</td>\n",
              "      <td>1</td>\n",
              "      <td>40.786228</td>\n",
              "      <td>40.803272</td>\n",
              "      <td>-73.952362</td>\n",
              "    </tr>\n",
              "    <tr>\n",
              "      <th>14981</th>\n",
              "      <td>1</td>\n",
              "      <td>1</td>\n",
              "      <td>40.760796</td>\n",
              "      <td>40.744148</td>\n",
              "      <td>-73.991730</td>\n",
              "    </tr>\n",
              "    <tr>\n",
              "      <th>28176</th>\n",
              "      <td>2</td>\n",
              "      <td>1</td>\n",
              "      <td>40.753201</td>\n",
              "      <td>40.741829</td>\n",
              "      <td>-74.004707</td>\n",
              "    </tr>\n",
              "    <tr>\n",
              "      <th>25595</th>\n",
              "      <td>1</td>\n",
              "      <td>1</td>\n",
              "      <td>40.736221</td>\n",
              "      <td>40.723099</td>\n",
              "      <td>-74.000954</td>\n",
              "    </tr>\n",
              "    <tr>\n",
              "      <th>...</th>\n",
              "      <td>...</td>\n",
              "      <td>...</td>\n",
              "      <td>...</td>\n",
              "      <td>...</td>\n",
              "      <td>...</td>\n",
              "    </tr>\n",
              "    <tr>\n",
              "      <th>19506</th>\n",
              "      <td>2</td>\n",
              "      <td>1</td>\n",
              "      <td>40.646954</td>\n",
              "      <td>40.600548</td>\n",
              "      <td>-73.989845</td>\n",
              "    </tr>\n",
              "    <tr>\n",
              "      <th>20579</th>\n",
              "      <td>1</td>\n",
              "      <td>1</td>\n",
              "      <td>40.747719</td>\n",
              "      <td>40.774258</td>\n",
              "      <td>-73.871071</td>\n",
              "    </tr>\n",
              "    <tr>\n",
              "      <th>14332</th>\n",
              "      <td>1</td>\n",
              "      <td>1</td>\n",
              "      <td>40.772785</td>\n",
              "      <td>40.773720</td>\n",
              "      <td>-73.961739</td>\n",
              "    </tr>\n",
              "    <tr>\n",
              "      <th>21811</th>\n",
              "      <td>1</td>\n",
              "      <td>1</td>\n",
              "      <td>40.684517</td>\n",
              "      <td>40.716061</td>\n",
              "      <td>-73.995338</td>\n",
              "    </tr>\n",
              "    <tr>\n",
              "      <th>3271</th>\n",
              "      <td>1</td>\n",
              "      <td>1</td>\n",
              "      <td>40.738270</td>\n",
              "      <td>40.758945</td>\n",
              "      <td>-73.972351</td>\n",
              "    </tr>\n",
              "  </tbody>\n",
              "</table>\n",
              "<p>18272 rows × 5 columns</p>\n",
              "</div>"
            ],
            "text/plain": [
              "       vendor_id  passenger_count  ...  dropoff_latitude  dropoff_longitude\n",
              "17338          2                1  ...         40.750275         -73.990715\n",
              "8175           2                1  ...         40.803272         -73.952362\n",
              "14981          1                1  ...         40.744148         -73.991730\n",
              "28176          2                1  ...         40.741829         -74.004707\n",
              "25595          1                1  ...         40.723099         -74.000954\n",
              "...          ...              ...  ...               ...                ...\n",
              "19506          2                1  ...         40.600548         -73.989845\n",
              "20579          1                1  ...         40.774258         -73.871071\n",
              "14332          1                1  ...         40.773720         -73.961739\n",
              "21811          1                1  ...         40.716061         -73.995338\n",
              "3271           1                1  ...         40.758945         -73.972351\n",
              "\n",
              "[18272 rows x 5 columns]"
            ]
          },
          "metadata": {
            "tags": []
          },
          "execution_count": 38
        }
      ]
    },
    {
      "cell_type": "code",
      "metadata": {
        "colab": {
          "base_uri": "https://localhost:8080/",
          "height": 417
        },
        "id": "AVUUYAWPNTMT",
        "outputId": "2e6e551f-b986-494c-d4f8-b5507fedc09d"
      },
      "source": [
        "train_inputs[cate_col]"
      ],
      "execution_count": 39,
      "outputs": [
        {
          "output_type": "execute_result",
          "data": {
            "text/html": [
              "<div>\n",
              "<style scoped>\n",
              "    .dataframe tbody tr th:only-of-type {\n",
              "        vertical-align: middle;\n",
              "    }\n",
              "\n",
              "    .dataframe tbody tr th {\n",
              "        vertical-align: top;\n",
              "    }\n",
              "\n",
              "    .dataframe thead th {\n",
              "        text-align: right;\n",
              "    }\n",
              "</style>\n",
              "<table border=\"1\" class=\"dataframe\">\n",
              "  <thead>\n",
              "    <tr style=\"text-align: right;\">\n",
              "      <th></th>\n",
              "      <th>store_and_fwd_flag</th>\n",
              "    </tr>\n",
              "  </thead>\n",
              "  <tbody>\n",
              "    <tr>\n",
              "      <th>17338</th>\n",
              "      <td>N</td>\n",
              "    </tr>\n",
              "    <tr>\n",
              "      <th>8175</th>\n",
              "      <td>N</td>\n",
              "    </tr>\n",
              "    <tr>\n",
              "      <th>14981</th>\n",
              "      <td>N</td>\n",
              "    </tr>\n",
              "    <tr>\n",
              "      <th>28176</th>\n",
              "      <td>N</td>\n",
              "    </tr>\n",
              "    <tr>\n",
              "      <th>25595</th>\n",
              "      <td>N</td>\n",
              "    </tr>\n",
              "    <tr>\n",
              "      <th>...</th>\n",
              "      <td>...</td>\n",
              "    </tr>\n",
              "    <tr>\n",
              "      <th>19506</th>\n",
              "      <td>N</td>\n",
              "    </tr>\n",
              "    <tr>\n",
              "      <th>20579</th>\n",
              "      <td>N</td>\n",
              "    </tr>\n",
              "    <tr>\n",
              "      <th>14332</th>\n",
              "      <td>N</td>\n",
              "    </tr>\n",
              "    <tr>\n",
              "      <th>21811</th>\n",
              "      <td>N</td>\n",
              "    </tr>\n",
              "    <tr>\n",
              "      <th>3271</th>\n",
              "      <td>N</td>\n",
              "    </tr>\n",
              "  </tbody>\n",
              "</table>\n",
              "<p>18272 rows × 1 columns</p>\n",
              "</div>"
            ],
            "text/plain": [
              "      store_and_fwd_flag\n",
              "17338                  N\n",
              "8175                   N\n",
              "14981                  N\n",
              "28176                  N\n",
              "25595                  N\n",
              "...                  ...\n",
              "19506                  N\n",
              "20579                  N\n",
              "14332                  N\n",
              "21811                  N\n",
              "3271                   N\n",
              "\n",
              "[18272 rows x 1 columns]"
            ]
          },
          "metadata": {
            "tags": []
          },
          "execution_count": 39
        }
      ]
    },
    {
      "cell_type": "markdown",
      "metadata": {
        "id": "xh-4uIO0MzXJ"
      },
      "source": [
        "### Imputing missing values\n"
      ]
    },
    {
      "cell_type": "markdown",
      "metadata": {
        "id": "VRpLxMDwwAII"
      },
      "source": [
        "Imputing is an technique in which the fill in the missing numeric values based on some category. Here if we want we'll use SimpleImputer form sklearn moduel\n",
        "\n",
        "Reference:https://scikit-learn.org/stable/modules/generated/sklearn.impute.SimpleImputer.html"
      ]
    },
    {
      "cell_type": "code",
      "metadata": {
        "colab": {
          "base_uri": "https://localhost:8080/"
        },
        "id": "FQQS1B02MykV",
        "outputId": "1a2b0986-f958-4ec1-c0a7-584e1c0b6d30"
      },
      "source": [
        "train_inputs[numeric_col].isna().sum()"
      ],
      "execution_count": 40,
      "outputs": [
        {
          "output_type": "execute_result",
          "data": {
            "text/plain": [
              "vendor_id            0\n",
              "passenger_count      0\n",
              "pickup_latitude      0\n",
              "dropoff_latitude     0\n",
              "dropoff_longitude    0\n",
              "dtype: int64"
            ]
          },
          "metadata": {
            "tags": []
          },
          "execution_count": 40
        }
      ]
    },
    {
      "cell_type": "code",
      "metadata": {
        "colab": {
          "base_uri": "https://localhost:8080/"
        },
        "id": "eKS4wA8fNZgM",
        "outputId": "7f95c1dd-0152-428d-cfa6-dd017592ce4e"
      },
      "source": [
        "val_inputs[numeric_col].isna().sum()"
      ],
      "execution_count": 41,
      "outputs": [
        {
          "output_type": "execute_result",
          "data": {
            "text/plain": [
              "vendor_id            0\n",
              "passenger_count      0\n",
              "pickup_latitude      0\n",
              "dropoff_latitude     0\n",
              "dropoff_longitude    0\n",
              "dtype: int64"
            ]
          },
          "metadata": {
            "tags": []
          },
          "execution_count": 41
        }
      ]
    },
    {
      "cell_type": "code",
      "metadata": {
        "colab": {
          "base_uri": "https://localhost:8080/"
        },
        "id": "8E8FVEAMNdbC",
        "outputId": "20ad0e09-6793-4197-e191-f30cbeb87257"
      },
      "source": [
        "test_inputs[numeric_col].isna().sum()"
      ],
      "execution_count": 42,
      "outputs": [
        {
          "output_type": "execute_result",
          "data": {
            "text/plain": [
              "vendor_id            0\n",
              "passenger_count      0\n",
              "pickup_latitude      0\n",
              "dropoff_latitude     0\n",
              "dropoff_longitude    0\n",
              "dtype: int64"
            ]
          },
          "metadata": {
            "tags": []
          },
          "execution_count": 42
        }
      ]
    },
    {
      "cell_type": "markdown",
      "metadata": {
        "id": "DC0PvmmTNh2n"
      },
      "source": [
        "It seems like there are no missing values in the train,validation and test datasets."
      ]
    },
    {
      "cell_type": "markdown",
      "metadata": {
        "id": "Ii_Qs-79Noxh"
      },
      "source": [
        "### Scaling numeric values"
      ]
    },
    {
      "cell_type": "markdown",
      "metadata": {
        "id": "51AG7amVvyIY"
      },
      "source": [
        "Now let's scale the numeric values to in range of (0,1) \n",
        "\n",
        "Reference:https://scikit-learn.org/stable/modules/generated/sklearn.preprocessing.MinMaxScaler.html"
      ]
    },
    {
      "cell_type": "code",
      "metadata": {
        "colab": {
          "base_uri": "https://localhost:8080/",
          "height": 295
        },
        "id": "VqCU-SseNrpJ",
        "outputId": "929f761a-e593-4beb-ba69-ef7f3fb5f829"
      },
      "source": [
        "train_inputs[numeric_col].describe()"
      ],
      "execution_count": 43,
      "outputs": [
        {
          "output_type": "execute_result",
          "data": {
            "text/html": [
              "<div>\n",
              "<style scoped>\n",
              "    .dataframe tbody tr th:only-of-type {\n",
              "        vertical-align: middle;\n",
              "    }\n",
              "\n",
              "    .dataframe tbody tr th {\n",
              "        vertical-align: top;\n",
              "    }\n",
              "\n",
              "    .dataframe thead th {\n",
              "        text-align: right;\n",
              "    }\n",
              "</style>\n",
              "<table border=\"1\" class=\"dataframe\">\n",
              "  <thead>\n",
              "    <tr style=\"text-align: right;\">\n",
              "      <th></th>\n",
              "      <th>vendor_id</th>\n",
              "      <th>passenger_count</th>\n",
              "      <th>pickup_latitude</th>\n",
              "      <th>dropoff_latitude</th>\n",
              "      <th>dropoff_longitude</th>\n",
              "    </tr>\n",
              "  </thead>\n",
              "  <tbody>\n",
              "    <tr>\n",
              "      <th>count</th>\n",
              "      <td>18272.000000</td>\n",
              "      <td>18272.000000</td>\n",
              "      <td>18272.000000</td>\n",
              "      <td>18272.000000</td>\n",
              "      <td>18272.000000</td>\n",
              "    </tr>\n",
              "    <tr>\n",
              "      <th>mean</th>\n",
              "      <td>1.530265</td>\n",
              "      <td>1.673873</td>\n",
              "      <td>40.751378</td>\n",
              "      <td>40.751914</td>\n",
              "      <td>-73.973290</td>\n",
              "    </tr>\n",
              "    <tr>\n",
              "      <th>std</th>\n",
              "      <td>0.499097</td>\n",
              "      <td>1.325714</td>\n",
              "      <td>0.027798</td>\n",
              "      <td>0.032050</td>\n",
              "      <td>0.036435</td>\n",
              "    </tr>\n",
              "    <tr>\n",
              "      <th>min</th>\n",
              "      <td>1.000000</td>\n",
              "      <td>1.000000</td>\n",
              "      <td>40.599873</td>\n",
              "      <td>40.567341</td>\n",
              "      <td>-74.379631</td>\n",
              "    </tr>\n",
              "    <tr>\n",
              "      <th>25%</th>\n",
              "      <td>1.000000</td>\n",
              "      <td>1.000000</td>\n",
              "      <td>40.737709</td>\n",
              "      <td>40.736263</td>\n",
              "      <td>-73.991318</td>\n",
              "    </tr>\n",
              "    <tr>\n",
              "      <th>50%</th>\n",
              "      <td>2.000000</td>\n",
              "      <td>1.000000</td>\n",
              "      <td>40.754482</td>\n",
              "      <td>40.754726</td>\n",
              "      <td>-73.979702</td>\n",
              "    </tr>\n",
              "    <tr>\n",
              "      <th>75%</th>\n",
              "      <td>2.000000</td>\n",
              "      <td>2.000000</td>\n",
              "      <td>40.768549</td>\n",
              "      <td>40.770107</td>\n",
              "      <td>-73.962868</td>\n",
              "    </tr>\n",
              "    <tr>\n",
              "      <th>max</th>\n",
              "      <td>2.000000</td>\n",
              "      <td>6.000000</td>\n",
              "      <td>40.882942</td>\n",
              "      <td>41.060986</td>\n",
              "      <td>-73.549583</td>\n",
              "    </tr>\n",
              "  </tbody>\n",
              "</table>\n",
              "</div>"
            ],
            "text/plain": [
              "          vendor_id  passenger_count  ...  dropoff_latitude  dropoff_longitude\n",
              "count  18272.000000     18272.000000  ...      18272.000000       18272.000000\n",
              "mean       1.530265         1.673873  ...         40.751914         -73.973290\n",
              "std        0.499097         1.325714  ...          0.032050           0.036435\n",
              "min        1.000000         1.000000  ...         40.567341         -74.379631\n",
              "25%        1.000000         1.000000  ...         40.736263         -73.991318\n",
              "50%        2.000000         1.000000  ...         40.754726         -73.979702\n",
              "75%        2.000000         2.000000  ...         40.770107         -73.962868\n",
              "max        2.000000         6.000000  ...         41.060986         -73.549583\n",
              "\n",
              "[8 rows x 5 columns]"
            ]
          },
          "metadata": {
            "tags": []
          },
          "execution_count": 43
        }
      ]
    },
    {
      "cell_type": "code",
      "metadata": {
        "id": "d8rHQtFcNwoc"
      },
      "source": [
        "from sklearn.preprocessing import MinMaxScaler\n",
        "scaler = MinMaxScaler()"
      ],
      "execution_count": 44,
      "outputs": []
    },
    {
      "cell_type": "code",
      "metadata": {
        "colab": {
          "base_uri": "https://localhost:8080/"
        },
        "id": "L8MDSgrSN37T",
        "outputId": "6d2a2d47-21ff-409f-f5ce-03e691b7af09"
      },
      "source": [
        "scaler.fit(train_inputs[numeric_col])"
      ],
      "execution_count": 45,
      "outputs": [
        {
          "output_type": "execute_result",
          "data": {
            "text/plain": [
              "MinMaxScaler(copy=True, feature_range=(0, 1))"
            ]
          },
          "metadata": {
            "tags": []
          },
          "execution_count": 45
        }
      ]
    },
    {
      "cell_type": "code",
      "metadata": {
        "id": "gLBS3dDeN7Xp"
      },
      "source": [
        "train_inputs[numeric_col] = scaler.transform(train_inputs[numeric_col])\n",
        "val_inputs[numeric_col]  = scaler.transform(val_inputs[numeric_col])\n",
        "test_inputs[numeric_col] = scaler.transform(test_inputs[numeric_col])"
      ],
      "execution_count": 46,
      "outputs": []
    },
    {
      "cell_type": "code",
      "metadata": {
        "colab": {
          "base_uri": "https://localhost:8080/",
          "height": 295
        },
        "id": "Xj8dmrilOO7L",
        "outputId": "980e4535-68e5-4288-8fcd-d3fa41b68595"
      },
      "source": [
        "train_inputs[numeric_col].describe()"
      ],
      "execution_count": 47,
      "outputs": [
        {
          "output_type": "execute_result",
          "data": {
            "text/html": [
              "<div>\n",
              "<style scoped>\n",
              "    .dataframe tbody tr th:only-of-type {\n",
              "        vertical-align: middle;\n",
              "    }\n",
              "\n",
              "    .dataframe tbody tr th {\n",
              "        vertical-align: top;\n",
              "    }\n",
              "\n",
              "    .dataframe thead th {\n",
              "        text-align: right;\n",
              "    }\n",
              "</style>\n",
              "<table border=\"1\" class=\"dataframe\">\n",
              "  <thead>\n",
              "    <tr style=\"text-align: right;\">\n",
              "      <th></th>\n",
              "      <th>vendor_id</th>\n",
              "      <th>passenger_count</th>\n",
              "      <th>pickup_latitude</th>\n",
              "      <th>dropoff_latitude</th>\n",
              "      <th>dropoff_longitude</th>\n",
              "    </tr>\n",
              "  </thead>\n",
              "  <tbody>\n",
              "    <tr>\n",
              "      <th>count</th>\n",
              "      <td>18272.000000</td>\n",
              "      <td>18272.000000</td>\n",
              "      <td>18272.000000</td>\n",
              "      <td>18272.000000</td>\n",
              "      <td>18272.000000</td>\n",
              "    </tr>\n",
              "    <tr>\n",
              "      <th>mean</th>\n",
              "      <td>0.530265</td>\n",
              "      <td>0.134775</td>\n",
              "      <td>0.535225</td>\n",
              "      <td>0.373899</td>\n",
              "      <td>0.489540</td>\n",
              "    </tr>\n",
              "    <tr>\n",
              "      <th>std</th>\n",
              "      <td>0.499097</td>\n",
              "      <td>0.265143</td>\n",
              "      <td>0.098203</td>\n",
              "      <td>0.064925</td>\n",
              "      <td>0.043895</td>\n",
              "    </tr>\n",
              "    <tr>\n",
              "      <th>min</th>\n",
              "      <td>0.000000</td>\n",
              "      <td>0.000000</td>\n",
              "      <td>0.000000</td>\n",
              "      <td>0.000000</td>\n",
              "      <td>0.000000</td>\n",
              "    </tr>\n",
              "    <tr>\n",
              "      <th>25%</th>\n",
              "      <td>0.000000</td>\n",
              "      <td>0.000000</td>\n",
              "      <td>0.486935</td>\n",
              "      <td>0.342194</td>\n",
              "      <td>0.467821</td>\n",
              "    </tr>\n",
              "    <tr>\n",
              "      <th>50%</th>\n",
              "      <td>1.000000</td>\n",
              "      <td>0.000000</td>\n",
              "      <td>0.546190</td>\n",
              "      <td>0.379596</td>\n",
              "      <td>0.481815</td>\n",
              "    </tr>\n",
              "    <tr>\n",
              "      <th>75%</th>\n",
              "      <td>1.000000</td>\n",
              "      <td>0.200000</td>\n",
              "      <td>0.595883</td>\n",
              "      <td>0.410754</td>\n",
              "      <td>0.502096</td>\n",
              "    </tr>\n",
              "    <tr>\n",
              "      <th>max</th>\n",
              "      <td>1.000000</td>\n",
              "      <td>1.000000</td>\n",
              "      <td>1.000000</td>\n",
              "      <td>1.000000</td>\n",
              "      <td>1.000000</td>\n",
              "    </tr>\n",
              "  </tbody>\n",
              "</table>\n",
              "</div>"
            ],
            "text/plain": [
              "          vendor_id  passenger_count  ...  dropoff_latitude  dropoff_longitude\n",
              "count  18272.000000     18272.000000  ...      18272.000000       18272.000000\n",
              "mean       0.530265         0.134775  ...          0.373899           0.489540\n",
              "std        0.499097         0.265143  ...          0.064925           0.043895\n",
              "min        0.000000         0.000000  ...          0.000000           0.000000\n",
              "25%        0.000000         0.000000  ...          0.342194           0.467821\n",
              "50%        1.000000         0.000000  ...          0.379596           0.481815\n",
              "75%        1.000000         0.200000  ...          0.410754           0.502096\n",
              "max        1.000000         1.000000  ...          1.000000           1.000000\n",
              "\n",
              "[8 rows x 5 columns]"
            ]
          },
          "metadata": {
            "tags": []
          },
          "execution_count": 47
        }
      ]
    },
    {
      "cell_type": "markdown",
      "metadata": {
        "id": "6CzKcimXOmlP"
      },
      "source": [
        "### Encoding categorical columns"
      ]
    },
    {
      "cell_type": "markdown",
      "metadata": {
        "id": "ahfy6rNRvWX9"
      },
      "source": [
        "Now are going to encode categorical columns using one hot encoder into one hot numeric array\n",
        "Reference:https://scikit-learn.org/stable/modules/generated/sklearn.preprocessing.OneHotEncoder.html"
      ]
    },
    {
      "cell_type": "code",
      "metadata": {
        "id": "eV3rvjwOOpHb"
      },
      "source": [
        "from sklearn.preprocessing import OneHotEncoder\n",
        "encoder  = OneHotEncoder(sparse=False,handle_unknown='ignore')"
      ],
      "execution_count": 48,
      "outputs": []
    },
    {
      "cell_type": "code",
      "metadata": {
        "colab": {
          "base_uri": "https://localhost:8080/"
        },
        "id": "K_ZIxfOkOyUT",
        "outputId": "20b96680-2687-463a-f56e-28e914bd49e0"
      },
      "source": [
        "encoder.fit(train_inputs[cate_col])"
      ],
      "execution_count": 49,
      "outputs": [
        {
          "output_type": "execute_result",
          "data": {
            "text/plain": [
              "OneHotEncoder(categories='auto', drop=None, dtype=<class 'numpy.float64'>,\n",
              "              handle_unknown='ignore', sparse=False)"
            ]
          },
          "metadata": {
            "tags": []
          },
          "execution_count": 49
        }
      ]
    },
    {
      "cell_type": "code",
      "metadata": {
        "colab": {
          "base_uri": "https://localhost:8080/"
        },
        "id": "ozJlsxh5O-AD",
        "outputId": "575a905e-eb06-4e7e-f3f0-628cad0ea920"
      },
      "source": [
        "enc_col = encoder.get_feature_names(cate_col).tolist()\n",
        "enc_col"
      ],
      "execution_count": 50,
      "outputs": [
        {
          "output_type": "execute_result",
          "data": {
            "text/plain": [
              "['store_and_fwd_flag_N', 'store_and_fwd_flag_Y']"
            ]
          },
          "metadata": {
            "tags": []
          },
          "execution_count": 50
        }
      ]
    },
    {
      "cell_type": "code",
      "metadata": {
        "id": "rHwI0JFoPDG2"
      },
      "source": [
        "train_inputs[enc_col] = encoder.transform(train_inputs[cate_col])\n",
        "val_inputs[enc_col] = encoder.transform(val_inputs[cate_col])\n",
        "test_inputs[enc_col] = encoder.transform(test_inputs[cate_col])"
      ],
      "execution_count": 51,
      "outputs": []
    },
    {
      "cell_type": "code",
      "metadata": {
        "colab": {
          "base_uri": "https://localhost:8080/",
          "height": 417
        },
        "id": "NNL_fYswPkzO",
        "outputId": "bbbd6875-4948-4f75-d58a-3625481f638d"
      },
      "source": [
        "train_inputs[enc_col]"
      ],
      "execution_count": 52,
      "outputs": [
        {
          "output_type": "execute_result",
          "data": {
            "text/html": [
              "<div>\n",
              "<style scoped>\n",
              "    .dataframe tbody tr th:only-of-type {\n",
              "        vertical-align: middle;\n",
              "    }\n",
              "\n",
              "    .dataframe tbody tr th {\n",
              "        vertical-align: top;\n",
              "    }\n",
              "\n",
              "    .dataframe thead th {\n",
              "        text-align: right;\n",
              "    }\n",
              "</style>\n",
              "<table border=\"1\" class=\"dataframe\">\n",
              "  <thead>\n",
              "    <tr style=\"text-align: right;\">\n",
              "      <th></th>\n",
              "      <th>store_and_fwd_flag_N</th>\n",
              "      <th>store_and_fwd_flag_Y</th>\n",
              "    </tr>\n",
              "  </thead>\n",
              "  <tbody>\n",
              "    <tr>\n",
              "      <th>17338</th>\n",
              "      <td>1.0</td>\n",
              "      <td>0.0</td>\n",
              "    </tr>\n",
              "    <tr>\n",
              "      <th>8175</th>\n",
              "      <td>1.0</td>\n",
              "      <td>0.0</td>\n",
              "    </tr>\n",
              "    <tr>\n",
              "      <th>14981</th>\n",
              "      <td>1.0</td>\n",
              "      <td>0.0</td>\n",
              "    </tr>\n",
              "    <tr>\n",
              "      <th>28176</th>\n",
              "      <td>1.0</td>\n",
              "      <td>0.0</td>\n",
              "    </tr>\n",
              "    <tr>\n",
              "      <th>25595</th>\n",
              "      <td>1.0</td>\n",
              "      <td>0.0</td>\n",
              "    </tr>\n",
              "    <tr>\n",
              "      <th>...</th>\n",
              "      <td>...</td>\n",
              "      <td>...</td>\n",
              "    </tr>\n",
              "    <tr>\n",
              "      <th>19506</th>\n",
              "      <td>1.0</td>\n",
              "      <td>0.0</td>\n",
              "    </tr>\n",
              "    <tr>\n",
              "      <th>20579</th>\n",
              "      <td>1.0</td>\n",
              "      <td>0.0</td>\n",
              "    </tr>\n",
              "    <tr>\n",
              "      <th>14332</th>\n",
              "      <td>1.0</td>\n",
              "      <td>0.0</td>\n",
              "    </tr>\n",
              "    <tr>\n",
              "      <th>21811</th>\n",
              "      <td>1.0</td>\n",
              "      <td>0.0</td>\n",
              "    </tr>\n",
              "    <tr>\n",
              "      <th>3271</th>\n",
              "      <td>1.0</td>\n",
              "      <td>0.0</td>\n",
              "    </tr>\n",
              "  </tbody>\n",
              "</table>\n",
              "<p>18272 rows × 2 columns</p>\n",
              "</div>"
            ],
            "text/plain": [
              "       store_and_fwd_flag_N  store_and_fwd_flag_Y\n",
              "17338                   1.0                   0.0\n",
              "8175                    1.0                   0.0\n",
              "14981                   1.0                   0.0\n",
              "28176                   1.0                   0.0\n",
              "25595                   1.0                   0.0\n",
              "...                     ...                   ...\n",
              "19506                   1.0                   0.0\n",
              "20579                   1.0                   0.0\n",
              "14332                   1.0                   0.0\n",
              "21811                   1.0                   0.0\n",
              "3271                    1.0                   0.0\n",
              "\n",
              "[18272 rows x 2 columns]"
            ]
          },
          "metadata": {
            "tags": []
          },
          "execution_count": 52
        }
      ]
    },
    {
      "cell_type": "code",
      "metadata": {
        "colab": {
          "base_uri": "https://localhost:8080/",
          "height": 605
        },
        "id": "QTFG70EfPmMi",
        "outputId": "9ddb7327-8493-4f63-c014-a7358d6be7be"
      },
      "source": [
        "val_inputs"
      ],
      "execution_count": 53,
      "outputs": [
        {
          "output_type": "execute_result",
          "data": {
            "text/html": [
              "<div>\n",
              "<style scoped>\n",
              "    .dataframe tbody tr th:only-of-type {\n",
              "        vertical-align: middle;\n",
              "    }\n",
              "\n",
              "    .dataframe tbody tr th {\n",
              "        vertical-align: top;\n",
              "    }\n",
              "\n",
              "    .dataframe thead th {\n",
              "        text-align: right;\n",
              "    }\n",
              "</style>\n",
              "<table border=\"1\" class=\"dataframe\">\n",
              "  <thead>\n",
              "    <tr style=\"text-align: right;\">\n",
              "      <th></th>\n",
              "      <th>vendor_id</th>\n",
              "      <th>pickup_datetime</th>\n",
              "      <th>passenger_count</th>\n",
              "      <th>pickup_latitude</th>\n",
              "      <th>dropoff_latitude</th>\n",
              "      <th>dropoff_longitude</th>\n",
              "      <th>store_and_fwd_flag</th>\n",
              "      <th>store_and_fwd_flag_N</th>\n",
              "      <th>store_and_fwd_flag_Y</th>\n",
              "    </tr>\n",
              "  </thead>\n",
              "  <tbody>\n",
              "    <tr>\n",
              "      <th>2896</th>\n",
              "      <td>0.0</td>\n",
              "      <td>2016-02-29 18:20:00</td>\n",
              "      <td>0.0</td>\n",
              "      <td>0.470804</td>\n",
              "      <td>0.227632</td>\n",
              "      <td>0.460826</td>\n",
              "      <td>N</td>\n",
              "      <td>1.0</td>\n",
              "      <td>0.0</td>\n",
              "    </tr>\n",
              "    <tr>\n",
              "      <th>26443</th>\n",
              "      <td>0.0</td>\n",
              "      <td>2016-03-20 09:53:47</td>\n",
              "      <td>0.0</td>\n",
              "      <td>0.536123</td>\n",
              "      <td>0.434771</td>\n",
              "      <td>0.491369</td>\n",
              "      <td>N</td>\n",
              "      <td>1.0</td>\n",
              "      <td>0.0</td>\n",
              "    </tr>\n",
              "    <tr>\n",
              "      <th>16368</th>\n",
              "      <td>0.0</td>\n",
              "      <td>2016-05-18 04:16:46</td>\n",
              "      <td>0.0</td>\n",
              "      <td>0.569773</td>\n",
              "      <td>0.360918</td>\n",
              "      <td>0.479246</td>\n",
              "      <td>N</td>\n",
              "      <td>1.0</td>\n",
              "      <td>0.0</td>\n",
              "    </tr>\n",
              "    <tr>\n",
              "      <th>27568</th>\n",
              "      <td>1.0</td>\n",
              "      <td>2016-04-24 22:07:45</td>\n",
              "      <td>0.0</td>\n",
              "      <td>0.513079</td>\n",
              "      <td>0.540191</td>\n",
              "      <td>0.526729</td>\n",
              "      <td>N</td>\n",
              "      <td>1.0</td>\n",
              "      <td>0.0</td>\n",
              "    </tr>\n",
              "    <tr>\n",
              "      <th>2576</th>\n",
              "      <td>1.0</td>\n",
              "      <td>2016-04-25 19:49:56</td>\n",
              "      <td>0.8</td>\n",
              "      <td>0.571498</td>\n",
              "      <td>0.332512</td>\n",
              "      <td>0.474714</td>\n",
              "      <td>N</td>\n",
              "      <td>1.0</td>\n",
              "      <td>0.0</td>\n",
              "    </tr>\n",
              "    <tr>\n",
              "      <th>...</th>\n",
              "      <td>...</td>\n",
              "      <td>...</td>\n",
              "      <td>...</td>\n",
              "      <td>...</td>\n",
              "      <td>...</td>\n",
              "      <td>...</td>\n",
              "      <td>...</td>\n",
              "      <td>...</td>\n",
              "      <td>...</td>\n",
              "    </tr>\n",
              "    <tr>\n",
              "      <th>15171</th>\n",
              "      <td>0.0</td>\n",
              "      <td>2016-02-25 14:42:05</td>\n",
              "      <td>0.0</td>\n",
              "      <td>0.448379</td>\n",
              "      <td>0.358901</td>\n",
              "      <td>0.449529</td>\n",
              "      <td>N</td>\n",
              "      <td>1.0</td>\n",
              "      <td>0.0</td>\n",
              "    </tr>\n",
              "    <tr>\n",
              "      <th>18029</th>\n",
              "      <td>1.0</td>\n",
              "      <td>2016-05-23 18:08:48</td>\n",
              "      <td>0.0</td>\n",
              "      <td>0.439202</td>\n",
              "      <td>0.324676</td>\n",
              "      <td>0.464383</td>\n",
              "      <td>N</td>\n",
              "      <td>1.0</td>\n",
              "      <td>0.0</td>\n",
              "    </tr>\n",
              "    <tr>\n",
              "      <th>30242</th>\n",
              "      <td>1.0</td>\n",
              "      <td>2016-01-31 15:47:51</td>\n",
              "      <td>0.8</td>\n",
              "      <td>0.422815</td>\n",
              "      <td>0.399131</td>\n",
              "      <td>0.489623</td>\n",
              "      <td>N</td>\n",
              "      <td>1.0</td>\n",
              "      <td>0.0</td>\n",
              "    </tr>\n",
              "    <tr>\n",
              "      <th>17087</th>\n",
              "      <td>1.0</td>\n",
              "      <td>2016-06-25 23:14:19</td>\n",
              "      <td>0.0</td>\n",
              "      <td>0.533765</td>\n",
              "      <td>0.421418</td>\n",
              "      <td>0.517124</td>\n",
              "      <td>N</td>\n",
              "      <td>1.0</td>\n",
              "      <td>0.0</td>\n",
              "    </tr>\n",
              "    <tr>\n",
              "      <th>19212</th>\n",
              "      <td>0.0</td>\n",
              "      <td>2016-01-18 06:20:20</td>\n",
              "      <td>0.2</td>\n",
              "      <td>0.582589</td>\n",
              "      <td>0.421047</td>\n",
              "      <td>0.478611</td>\n",
              "      <td>N</td>\n",
              "      <td>1.0</td>\n",
              "      <td>0.0</td>\n",
              "    </tr>\n",
              "  </tbody>\n",
              "</table>\n",
              "<p>6091 rows × 9 columns</p>\n",
              "</div>"
            ],
            "text/plain": [
              "       vendor_id  ... store_and_fwd_flag_Y\n",
              "2896         0.0  ...                  0.0\n",
              "26443        0.0  ...                  0.0\n",
              "16368        0.0  ...                  0.0\n",
              "27568        1.0  ...                  0.0\n",
              "2576         1.0  ...                  0.0\n",
              "...          ...  ...                  ...\n",
              "15171        0.0  ...                  0.0\n",
              "18029        1.0  ...                  0.0\n",
              "30242        1.0  ...                  0.0\n",
              "17087        1.0  ...                  0.0\n",
              "19212        0.0  ...                  0.0\n",
              "\n",
              "[6091 rows x 9 columns]"
            ]
          },
          "metadata": {
            "tags": []
          },
          "execution_count": 53
        }
      ]
    },
    {
      "cell_type": "code",
      "metadata": {
        "id": "rJ4L0sNRPn6V"
      },
      "source": [
        "x_train = train_inputs[numeric_col + enc_col]\n",
        "x_val = val_inputs[numeric_col+enc_col]\n",
        "x_test = test_inputs[numeric_col + enc_col]"
      ],
      "execution_count": 125,
      "outputs": []
    },
    {
      "cell_type": "markdown",
      "metadata": {
        "id": "s3OaylADQchM"
      },
      "source": [
        "## Model"
      ]
    },
    {
      "cell_type": "markdown",
      "metadata": {
        "id": "fGv-pjZyun7-"
      },
      "source": [
        "### Linear model"
      ]
    },
    {
      "cell_type": "markdown",
      "metadata": {
        "id": "Fr4W9YBiuqe1"
      },
      "source": [
        "Linear Regression is a machine learning algorithm based on supervised learning. It performs a regression task. Regression models a target prediction value based on independent variables. It is mostly used for finding out the relationship between variables and forecasting. \n",
        "Reference:https://machinelearningmastery.com/linear-regression-for-machine-learning/"
      ]
    },
    {
      "cell_type": "code",
      "metadata": {
        "id": "wsIlv8mCPurU"
      },
      "source": [
        "from sklearn.linear_model import LinearRegression"
      ],
      "execution_count": 55,
      "outputs": []
    },
    {
      "cell_type": "code",
      "metadata": {
        "id": "3RMGeBhLQiO9"
      },
      "source": [
        "model = LinearRegression()"
      ],
      "execution_count": 56,
      "outputs": []
    },
    {
      "cell_type": "code",
      "metadata": {
        "colab": {
          "base_uri": "https://localhost:8080/"
        },
        "id": "E8UrfswVQnFk",
        "outputId": "945e1bc1-e303-46da-f319-7cf8ca53572d"
      },
      "source": [
        "model.fit(x_train,train_targets)"
      ],
      "execution_count": 57,
      "outputs": [
        {
          "output_type": "execute_result",
          "data": {
            "text/plain": [
              "LinearRegression(copy_X=True, fit_intercept=True, n_jobs=None, normalize=False)"
            ]
          },
          "metadata": {
            "tags": []
          },
          "execution_count": 57
        }
      ]
    },
    {
      "cell_type": "code",
      "metadata": {
        "colab": {
          "base_uri": "https://localhost:8080/"
        },
        "id": "5jilHj00Qp77",
        "outputId": "dd2e4c06-b49c-4f67-ce00-c013bf1053bb"
      },
      "source": [
        "model.predict(x_train)"
      ],
      "execution_count": 58,
      "outputs": [
        {
          "output_type": "execute_result",
          "data": {
            "text/plain": [
              "array([ 713.61048716,  631.52345536,  720.45534032, ...,  726.00276752,\n",
              "       1107.93074889,  866.61647762])"
            ]
          },
          "metadata": {
            "tags": []
          },
          "execution_count": 58
        }
      ]
    },
    {
      "cell_type": "code",
      "metadata": {
        "colab": {
          "base_uri": "https://localhost:8080/"
        },
        "id": "WYZFyhpSRKad",
        "outputId": "cc5ddb41-7d81-4db0-826b-600b2e169ac3"
      },
      "source": [
        "train_targets"
      ],
      "execution_count": 59,
      "outputs": [
        {
          "output_type": "execute_result",
          "data": {
            "text/plain": [
              "17338     999.0\n",
              "8175      521.0\n",
              "14981     859.0\n",
              "28176     284.0\n",
              "25595     649.0\n",
              "          ...  \n",
              "19506    1448.0\n",
              "20579     943.0\n",
              "14332     348.0\n",
              "21811     464.0\n",
              "3271      828.0\n",
              "Name: trip_duration, Length: 18272, dtype: float64"
            ]
          },
          "metadata": {
            "tags": []
          },
          "execution_count": 59
        }
      ]
    },
    {
      "cell_type": "code",
      "metadata": {
        "colab": {
          "base_uri": "https://localhost:8080/"
        },
        "id": "gXOu2gl2T9kX",
        "outputId": "41dc7b0c-4688-437e-9bda-2d636c13b780"
      },
      "source": [
        "from sklearn.metrics import mean_squared_error\n",
        "mean_squared_error(model.predict(x_train),train_targets,squared=False)"
      ],
      "execution_count": 60,
      "outputs": [
        {
          "output_type": "execute_result",
          "data": {
            "text/plain": [
              "604.3495311654826"
            ]
          },
          "metadata": {
            "tags": []
          },
          "execution_count": 60
        }
      ]
    },
    {
      "cell_type": "code",
      "metadata": {
        "colab": {
          "base_uri": "https://localhost:8080/"
        },
        "id": "r9PMJo6kUj46",
        "outputId": "ecb9d764-fe4a-4cf4-b53c-c27024803600"
      },
      "source": [
        "mean_squared_error(model.predict(x_val),val_targets,squared=False)"
      ],
      "execution_count": 61,
      "outputs": [
        {
          "output_type": "execute_result",
          "data": {
            "text/plain": [
              "618.026288458768"
            ]
          },
          "metadata": {
            "tags": []
          },
          "execution_count": 61
        }
      ]
    },
    {
      "cell_type": "markdown",
      "metadata": {
        "id": "w56MGeYXUItG"
      },
      "source": [
        "## XGBoost"
      ]
    },
    {
      "cell_type": "markdown",
      "metadata": {
        "id": "O7WVaBMJtB-O"
      },
      "source": [
        "XGBoost is an powerful approach for solving regresion models.Since we are dealing regression problems, we are now going to use xgboost model\n",
        "Reference:https://xgboost.readthedocs.io/en/latest/"
      ]
    },
    {
      "cell_type": "code",
      "metadata": {
        "id": "1KyMWXWcUKn7"
      },
      "source": [
        "from xgboost import XGBRegressor\n",
        "model =  XGBRegressor(n_jobs=-1,random_state=42)"
      ],
      "execution_count": 62,
      "outputs": []
    },
    {
      "cell_type": "code",
      "metadata": {
        "colab": {
          "base_uri": "https://localhost:8080/"
        },
        "id": "AOAElqD2UUo1",
        "outputId": "05f2fbf9-6ec2-4539-8fc5-d50ee9fb1ecf"
      },
      "source": [
        "model.fit(x_train,train_targets)"
      ],
      "execution_count": 63,
      "outputs": [
        {
          "output_type": "stream",
          "text": [
            "[06:01:43] WARNING: /workspace/src/objective/regression_obj.cu:152: reg:linear is now deprecated in favor of reg:squarederror.\n"
          ],
          "name": "stdout"
        },
        {
          "output_type": "execute_result",
          "data": {
            "text/plain": [
              "XGBRegressor(base_score=0.5, booster='gbtree', colsample_bylevel=1,\n",
              "             colsample_bynode=1, colsample_bytree=1, gamma=0,\n",
              "             importance_type='gain', learning_rate=0.1, max_delta_step=0,\n",
              "             max_depth=3, min_child_weight=1, missing=None, n_estimators=100,\n",
              "             n_jobs=-1, nthread=None, objective='reg:linear', random_state=42,\n",
              "             reg_alpha=0, reg_lambda=1, scale_pos_weight=1, seed=None,\n",
              "             silent=None, subsample=1, verbosity=1)"
            ]
          },
          "metadata": {
            "tags": []
          },
          "execution_count": 63
        }
      ]
    },
    {
      "cell_type": "code",
      "metadata": {
        "colab": {
          "base_uri": "https://localhost:8080/"
        },
        "id": "XhIqMNaAUXjU",
        "outputId": "55d0d12e-6c71-41dc-aa18-27e9c48af31a"
      },
      "source": [
        "model.predict(x_train)"
      ],
      "execution_count": 64,
      "outputs": [
        {
          "output_type": "execute_result",
          "data": {
            "text/plain": [
              "array([649.6477 , 506.83832, 709.522  , ..., 604.83777, 657.58417,\n",
              "       791.88135], dtype=float32)"
            ]
          },
          "metadata": {
            "tags": []
          },
          "execution_count": 64
        }
      ]
    },
    {
      "cell_type": "code",
      "metadata": {
        "colab": {
          "base_uri": "https://localhost:8080/"
        },
        "id": "HsVJAPPKVpaP",
        "outputId": "53345df2-8610-43ae-8b1b-72af6915143e"
      },
      "source": [
        "mean_squared_error(model.predict(x_train),train_targets,squared=False)"
      ],
      "execution_count": 65,
      "outputs": [
        {
          "output_type": "execute_result",
          "data": {
            "text/plain": [
              "444.07809490833785"
            ]
          },
          "metadata": {
            "tags": []
          },
          "execution_count": 65
        }
      ]
    },
    {
      "cell_type": "code",
      "metadata": {
        "colab": {
          "base_uri": "https://localhost:8080/"
        },
        "id": "4OZ5ugcgVyjF",
        "outputId": "ab4b52fa-0d8e-4027-d9f8-0e06ca3626f8"
      },
      "source": [
        "mean_squared_error(model.predict(x_val),val_targets,squared=False)"
      ],
      "execution_count": 66,
      "outputs": [
        {
          "output_type": "execute_result",
          "data": {
            "text/plain": [
              "473.88155630105257"
            ]
          },
          "metadata": {
            "tags": []
          },
          "execution_count": 66
        }
      ]
    },
    {
      "cell_type": "markdown",
      "metadata": {
        "id": "aGvQ_BcGWB6M"
      },
      "source": [
        "Now let's visualize the model"
      ]
    },
    {
      "cell_type": "code",
      "metadata": {
        "colab": {
          "base_uri": "https://localhost:8080/",
          "height": 416
        },
        "id": "TCrTV5yyWD2n",
        "outputId": "28465665-394e-4f08-f284-5e7a77059c2d"
      },
      "source": [
        "from xgboost import plot_tree\n",
        "matplotlib.rcParams['figure.figsize']  = 20,20\n",
        "plot_tree(model,rankdir='LR')"
      ],
      "execution_count": 67,
      "outputs": [
        {
          "output_type": "execute_result",
          "data": {
            "text/plain": [
              "<matplotlib.axes._subplots.AxesSubplot at 0x7fb4944ba690>"
            ]
          },
          "metadata": {
            "tags": []
          },
          "execution_count": 67
        },
        {
          "output_type": "display_data",
          "data": {
            "image/png": "[encoded data removed]",
            "text/plain": [
              "<Figure size 1440x1440 with 1 Axes>"
            ]
          },
          "metadata": {
            "tags": [],
            "needs_background": "light"
          }
        }
      ]
    },
    {
      "cell_type": "code",
      "metadata": {
        "colab": {
          "base_uri": "https://localhost:8080/",
          "height": 421
        },
        "id": "aMBjhjjQWvNk",
        "outputId": "6fb02aac-0a89-41ca-f104-6209843b401e"
      },
      "source": [
        "matplotlib.rcParams['figure.figsize']  = 20,20\n",
        "plot_tree(model,rankdir='LR',num_trees=19)"
      ],
      "execution_count": 68,
      "outputs": [
        {
          "output_type": "execute_result",
          "data": {
            "text/plain": [
              "<matplotlib.axes._subplots.AxesSubplot at 0x7fb47ed37710>"
            ]
          },
          "metadata": {
            "tags": []
          },
          "execution_count": 68
        },
        {
          "output_type": "display_data",
          "data": {
            "image/png": "[encoded data removed]",
            "text/plain": [
              "<Figure size 1440x1440 with 1 Axes>"
            ]
          },
          "metadata": {
            "tags": [],
            "needs_background": "light"
          }
        }
      ]
    },
    {
      "cell_type": "code",
      "metadata": {
        "colab": {
          "base_uri": "https://localhost:8080/"
        },
        "id": "sxomVHT1WomI",
        "outputId": "25e094ac-7f20-4290-b709-db4aec02c6e8"
      },
      "source": [
        "trees = model.get_booster().get_dump()\n",
        "print(trees[0])"
      ],
      "execution_count": 69,
      "outputs": [
        {
          "output_type": "stream",
          "text": [
            "0:[pickup_latitude<0.177157879] yes=1,no=2,missing=1\n",
            "\t1:[dropoff_longitude<0.675148904] yes=3,no=4,missing=3\n",
            "\t\t3:[dropoff_latitude<0.214970708] yes=7,no=8,missing=7\n",
            "\t\t\t7:leaf=169.022369\n",
            "\t\t\t8:leaf=263.568695\n",
            "\t\t4:[dropoff_latitude<0.172480404] yes=9,no=10,missing=9\n",
            "\t\t\t9:leaf=8.83055592\n",
            "\t\t\t10:leaf=115.117188\n",
            "\t2:[dropoff_longitude<0.591653228] yes=5,no=6,missing=5\n",
            "\t\t5:[dropoff_latitude<0.277962387] yes=11,no=12,missing=11\n",
            "\t\t\t11:leaf=133.137207\n",
            "\t\t\t12:leaf=73.3852615\n",
            "\t\t6:[dropoff_latitude<0.252468973] yes=13,no=14,missing=13\n",
            "\t\t\t13:leaf=264.555634\n",
            "\t\t\t14:leaf=148.010391\n",
            "\n"
          ],
          "name": "stdout"
        }
      ]
    },
    {
      "cell_type": "markdown",
      "metadata": {
        "id": "i8C6H-XnXHEQ"
      },
      "source": [
        "### Feature importance"
      ]
    },
    {
      "cell_type": "markdown",
      "metadata": {
        "id": "l7J3n40Js37t"
      },
      "source": [
        "Let's create a new data frame which contains the fields and their respective Importance given by the model"
      ]
    },
    {
      "cell_type": "code",
      "metadata": {
        "id": "uSK1C8UMXFPs"
      },
      "source": [
        "importance_df = pd.DataFrame({\n",
        "    'Feature' : numeric_col+enc_col,\n",
        "    'Importance':model.feature_importances_\n",
        "}).sort_values('Importance',ascending=False)"
      ],
      "execution_count": 70,
      "outputs": []
    },
    {
      "cell_type": "code",
      "metadata": {
        "colab": {
          "base_uri": "https://localhost:8080/",
          "height": 710
        },
        "id": "B1XyiT9AXZNm",
        "outputId": "dff9e5dd-cbb7-4d39-ea3f-ff0fcb19257d"
      },
      "source": [
        "matplotlib.rcParams['figure.figsize'] = 10,10\n",
        "sns.barplot(importance_df['Feature'],importance_df['Importance'])"
      ],
      "execution_count": 71,
      "outputs": [
        {
          "output_type": "stream",
          "text": [
            "/usr/local/lib/python3.7/dist-packages/seaborn/_decorators.py:43: FutureWarning:\n",
            "\n",
            "Pass the following variables as keyword args: x, y. From version 0.12, the only valid positional argument will be `data`, and passing other arguments without an explicit keyword will result in an error or misinterpretation.\n",
            "\n"
          ],
          "name": "stderr"
        },
        {
          "output_type": "execute_result",
          "data": {
            "text/plain": [
              "<matplotlib.axes._subplots.AxesSubplot at 0x7fb47b579d90>"
            ]
          },
          "metadata": {
            "tags": []
          },
          "execution_count": 71
        },
        {
          "output_type": "display_data",
          "data": {
            "image/png": "[encoded data removed]",
            "text/plain": [
              "<Figure size 720x720 with 1 Axes>"
            ]
          },
          "metadata": {
            "tags": [],
            "needs_background": "light"
          }
        }
      ]
    },
    {
      "cell_type": "markdown",
      "metadata": {
        "id": "TrmXXkdEXqhk"
      },
      "source": [
        "We can see that dropoff_longitude has the most importance given by the model"
      ]
    },
    {
      "cell_type": "markdown",
      "metadata": {
        "id": "Sk3foYv5XyIr"
      },
      "source": [
        "## Hyperparameter tuning"
      ]
    },
    {
      "cell_type": "markdown",
      "metadata": {
        "id": "LvSAegxbsipQ"
      },
      "source": [
        "Now we have created a model, next we have to tune the model using the parameters so that we can reduce the loss\n",
        "Refer:https://towardsdatascience.com/xgboost-fine-tune-and-optimize-your-model-23d996fab663"
      ]
    },
    {
      "cell_type": "markdown",
      "metadata": {
        "id": "-049qDljYvTD"
      },
      "source": [
        "### max_depth"
      ]
    },
    {
      "cell_type": "code",
      "metadata": {
        "id": "YEP-yMQkXp3i"
      },
      "source": [
        "def test_param(**params):\n",
        "  model = XGBRegressor(n_jobs=-1,random_state=42,**params)\n",
        "  model.fit(x_train,train_targets)\n",
        "  train_rmse = mean_squared_error(model.predict(x_train),train_targets,squared=False)\n",
        "  val_rmse = mean_squared_error(model.predict(x_val),val_targets,squared=False)\n",
        "  print(train_rmse,\" \",val_rmse)\n",
        "  return train_rmse,val_rmse"
      ],
      "execution_count": 72,
      "outputs": []
    },
    {
      "cell_type": "code",
      "metadata": {
        "id": "6MUFBZraY0Ac"
      },
      "source": [
        "def test_param_and_plot(param_name, param_values):\n",
        "    train_errors, val_errors = [], [] \n",
        "    for value in param_values:\n",
        "        params = {param_name: value}\n",
        "        train_rmse, val_rmse = test_param(**params)\n",
        "        train_errors.append(train_rmse)\n",
        "        val_errors.append(val_rmse)\n",
        "    plt.figure(figsize=(10,6))\n",
        "    plt.title('Overfitting curve: ' + param_name)\n",
        "    plt.plot(param_values, train_errors, 'b-o')\n",
        "    plt.plot(param_values, val_errors, 'r-o')\n",
        "    plt.xlabel(param_name)\n",
        "    plt.ylabel('RMSE')\n",
        "    plt.legend(['Training', 'Validation'])"
      ],
      "execution_count": 73,
      "outputs": []
    },
    {
      "cell_type": "code",
      "metadata": {
        "colab": {
          "base_uri": "https://localhost:8080/"
        },
        "id": "o70FUpHbYOY3",
        "outputId": "1606158f-3c74-4af1-f281-c7b8ab11062a"
      },
      "source": [
        "test_param(max_depth=2)"
      ],
      "execution_count": 74,
      "outputs": [
        {
          "output_type": "stream",
          "text": [
            "[06:01:47] WARNING: /workspace/src/objective/regression_obj.cu:152: reg:linear is now deprecated in favor of reg:squarederror.\n",
            "468.7094763333306   491.78961797446334\n"
          ],
          "name": "stdout"
        },
        {
          "output_type": "execute_result",
          "data": {
            "text/plain": [
              "(468.7094763333306, 491.78961797446334)"
            ]
          },
          "metadata": {
            "tags": []
          },
          "execution_count": 74
        }
      ]
    },
    {
      "cell_type": "code",
      "metadata": {
        "colab": {
          "base_uri": "https://localhost:8080/"
        },
        "id": "osTiFQvLYRP9",
        "outputId": "c087cf41-5287-4307-f65f-38f502504043"
      },
      "source": [
        "test_param(max_depth=5)"
      ],
      "execution_count": 75,
      "outputs": [
        {
          "output_type": "stream",
          "text": [
            "[06:01:48] WARNING: /workspace/src/objective/regression_obj.cu:152: reg:linear is now deprecated in favor of reg:squarederror.\n",
            "397.94256618393393   455.38227980020275\n"
          ],
          "name": "stdout"
        },
        {
          "output_type": "execute_result",
          "data": {
            "text/plain": [
              "(397.94256618393393, 455.38227980020275)"
            ]
          },
          "metadata": {
            "tags": []
          },
          "execution_count": 75
        }
      ]
    },
    {
      "cell_type": "code",
      "metadata": {
        "colab": {
          "base_uri": "https://localhost:8080/"
        },
        "id": "jtghP9D8Yr5j",
        "outputId": "6263efe5-f6ba-4cb6-ea7a-55f09729bac5"
      },
      "source": [
        "test_param(max_depth=10)"
      ],
      "execution_count": 76,
      "outputs": [
        {
          "output_type": "stream",
          "text": [
            "[06:01:49] WARNING: /workspace/src/objective/regression_obj.cu:152: reg:linear is now deprecated in favor of reg:squarederror.\n",
            "281.1646582831885   464.39189844900494\n"
          ],
          "name": "stdout"
        },
        {
          "output_type": "execute_result",
          "data": {
            "text/plain": [
              "(281.1646582831885, 464.39189844900494)"
            ]
          },
          "metadata": {
            "tags": []
          },
          "execution_count": 76
        }
      ]
    },
    {
      "cell_type": "code",
      "metadata": {
        "colab": {
          "base_uri": "https://localhost:8080/",
          "height": 774
        },
        "id": "ZaVR9AqlZTok",
        "outputId": "2fb0c6bf-ea80-402d-bbe5-0a4f136a3090"
      },
      "source": [
        "test_param_and_plot('max_depth',[x for x in range(0,110,10)])"
      ],
      "execution_count": 78,
      "outputs": [
        {
          "output_type": "stream",
          "text": [
            "[06:04:45] WARNING: /workspace/src/objective/regression_obj.cu:152: reg:linear is now deprecated in favor of reg:squarederror.\n",
            "645.411023969975   663.9162697193025\n",
            "[06:04:45] WARNING: /workspace/src/objective/regression_obj.cu:152: reg:linear is now deprecated in favor of reg:squarederror.\n",
            "281.1646582831885   464.39189844900494\n",
            "[06:04:47] WARNING: /workspace/src/objective/regression_obj.cu:152: reg:linear is now deprecated in favor of reg:squarederror.\n",
            "66.64937322907319   492.43007587106325\n",
            "[06:04:53] WARNING: /workspace/src/objective/regression_obj.cu:152: reg:linear is now deprecated in favor of reg:squarederror.\n",
            "9.668612354894695   494.58086361349655\n",
            "[06:05:03] WARNING: /workspace/src/objective/regression_obj.cu:152: reg:linear is now deprecated in favor of reg:squarederror.\n",
            "3.1422412747779402   494.58598767179046\n",
            "[06:05:15] WARNING: /workspace/src/objective/regression_obj.cu:152: reg:linear is now deprecated in favor of reg:squarederror.\n",
            "3.0994459543965087   492.5709955952639\n",
            "[06:05:27] WARNING: /workspace/src/objective/regression_obj.cu:152: reg:linear is now deprecated in favor of reg:squarederror.\n",
            "3.0801977239445364   492.3330012842156\n",
            "[06:05:40] WARNING: /workspace/src/objective/regression_obj.cu:152: reg:linear is now deprecated in favor of reg:squarederror.\n",
            "3.0742771449094772   492.44146700316657\n",
            "[06:05:53] WARNING: /workspace/src/objective/regression_obj.cu:152: reg:linear is now deprecated in favor of reg:squarederror.\n",
            "3.0742771449094772   492.44146700316657\n",
            "[06:06:07] WARNING: /workspace/src/objective/regression_obj.cu:152: reg:linear is now deprecated in favor of reg:squarederror.\n",
            "3.0742771449094772   492.44146700316657\n",
            "[06:06:20] WARNING: /workspace/src/objective/regression_obj.cu:152: reg:linear is now deprecated in favor of reg:squarederror.\n",
            "3.0742771449094772   492.44146700316657\n"
          ],
          "name": "stdout"
        },
        {
          "output_type": "display_data",
          "data": {
            "image/png": "[encoded data removed]",
            "text/plain": [
              "<Figure size 720x432 with 1 Axes>"
            ]
          },
          "metadata": {
            "tags": [],
            "needs_background": "light"
          }
        }
      ]
    },
    {
      "cell_type": "markdown",
      "metadata": {
        "id": "WueNon6HeP25"
      },
      "source": [
        "### n_estimators"
      ]
    },
    {
      "cell_type": "code",
      "metadata": {
        "colab": {
          "base_uri": "https://localhost:8080/"
        },
        "id": "7VRXNiSveRsd",
        "outputId": "57bd601d-fa92-4cc7-cc50-123d07d38ee6"
      },
      "source": [
        "test_param(n_estimators=10)"
      ],
      "execution_count": 83,
      "outputs": [
        {
          "output_type": "stream",
          "text": [
            "[06:08:13] WARNING: /workspace/src/objective/regression_obj.cu:152: reg:linear is now deprecated in favor of reg:squarederror.\n",
            "622.9825352675508   644.7078678330442\n"
          ],
          "name": "stdout"
        },
        {
          "output_type": "execute_result",
          "data": {
            "text/plain": [
              "(622.9825352675508, 644.7078678330442)"
            ]
          },
          "metadata": {
            "tags": []
          },
          "execution_count": 83
        }
      ]
    },
    {
      "cell_type": "code",
      "metadata": {
        "colab": {
          "base_uri": "https://localhost:8080/"
        },
        "id": "cClzUPiLea-n",
        "outputId": "6ed9ee8e-199d-4bcb-9e78-4c0375f7a88a"
      },
      "source": [
        "test_param(n_estimators=20)"
      ],
      "execution_count": 84,
      "outputs": [
        {
          "output_type": "stream",
          "text": [
            "[06:08:19] WARNING: /workspace/src/objective/regression_obj.cu:152: reg:linear is now deprecated in favor of reg:squarederror.\n",
            "534.3841246483383   557.3750793831289\n"
          ],
          "name": "stdout"
        },
        {
          "output_type": "execute_result",
          "data": {
            "text/plain": [
              "(534.3841246483383, 557.3750793831289)"
            ]
          },
          "metadata": {
            "tags": []
          },
          "execution_count": 84
        }
      ]
    },
    {
      "cell_type": "code",
      "metadata": {
        "colab": {
          "base_uri": "https://localhost:8080/"
        },
        "id": "p3MA5usxed9-",
        "outputId": "5df9acda-ebff-40af-9d3d-54d350ce2568"
      },
      "source": [
        "test_param(n_estimators=30)"
      ],
      "execution_count": 85,
      "outputs": [
        {
          "output_type": "stream",
          "text": [
            "[06:08:24] WARNING: /workspace/src/objective/regression_obj.cu:152: reg:linear is now deprecated in favor of reg:squarederror.\n",
            "506.9096707522515   531.0021632453652\n"
          ],
          "name": "stdout"
        },
        {
          "output_type": "execute_result",
          "data": {
            "text/plain": [
              "(506.9096707522515, 531.0021632453652)"
            ]
          },
          "metadata": {
            "tags": []
          },
          "execution_count": 85
        }
      ]
    },
    {
      "cell_type": "code",
      "metadata": {
        "colab": {
          "base_uri": "https://localhost:8080/"
        },
        "id": "ovlge4w-elPz",
        "outputId": "7c0aed8f-d0dd-4f25-e448-d39db19bba9a"
      },
      "source": [
        "test_param(n_estimators=40)"
      ],
      "execution_count": 86,
      "outputs": [
        {
          "output_type": "stream",
          "text": [
            "[06:08:34] WARNING: /workspace/src/objective/regression_obj.cu:152: reg:linear is now deprecated in favor of reg:squarederror.\n",
            "484.65023377367004   509.760975626037\n"
          ],
          "name": "stdout"
        },
        {
          "output_type": "execute_result",
          "data": {
            "text/plain": [
              "(484.65023377367004, 509.760975626037)"
            ]
          },
          "metadata": {
            "tags": []
          },
          "execution_count": 86
        }
      ]
    },
    {
      "cell_type": "code",
      "metadata": {
        "colab": {
          "base_uri": "https://localhost:8080/"
        },
        "id": "b8CHSJEteoL8",
        "outputId": "87332bf3-c3b5-4bcc-cc0d-ff9eaf2ad876"
      },
      "source": [
        "test_param(n_estimators=50)"
      ],
      "execution_count": 87,
      "outputs": [
        {
          "output_type": "stream",
          "text": [
            "[06:08:48] WARNING: /workspace/src/objective/regression_obj.cu:152: reg:linear is now deprecated in favor of reg:squarederror.\n",
            "473.31530946893184   499.3960820887394\n"
          ],
          "name": "stdout"
        },
        {
          "output_type": "execute_result",
          "data": {
            "text/plain": [
              "(473.31530946893184, 499.3960820887394)"
            ]
          },
          "metadata": {
            "tags": []
          },
          "execution_count": 87
        }
      ]
    },
    {
      "cell_type": "code",
      "metadata": {
        "colab": {
          "base_uri": "https://localhost:8080/"
        },
        "id": "_yF3SdJufIDB",
        "outputId": "49752c8b-8a71-49b4-d65b-558ae3e2e00c"
      },
      "source": [
        "test_param(n_estimators=50,max_depth=30)"
      ],
      "execution_count": 90,
      "outputs": [
        {
          "output_type": "stream",
          "text": [
            "[06:10:57] WARNING: /workspace/src/objective/regression_obj.cu:152: reg:linear is now deprecated in favor of reg:squarederror.\n",
            "44.90974730589435   492.5335781549812\n"
          ],
          "name": "stdout"
        },
        {
          "output_type": "execute_result",
          "data": {
            "text/plain": [
              "(44.90974730589435, 492.5335781549812)"
            ]
          },
          "metadata": {
            "tags": []
          },
          "execution_count": 90
        }
      ]
    },
    {
      "cell_type": "code",
      "metadata": {
        "colab": {
          "base_uri": "https://localhost:8080/"
        },
        "id": "A-0u56iufNCo",
        "outputId": "62cff6ec-7fa1-4766-a547-2429ef1baa64"
      },
      "source": [
        "test_param(n_estimators=60,max_depth=30)"
      ],
      "execution_count": 91,
      "outputs": [
        {
          "output_type": "stream",
          "text": [
            "[06:11:19] WARNING: /workspace/src/objective/regression_obj.cu:152: reg:linear is now deprecated in favor of reg:squarederror.\n",
            "32.12985450683002   493.1353049846066\n"
          ],
          "name": "stdout"
        },
        {
          "output_type": "execute_result",
          "data": {
            "text/plain": [
              "(32.12985450683002, 493.1353049846066)"
            ]
          },
          "metadata": {
            "tags": []
          },
          "execution_count": 91
        }
      ]
    },
    {
      "cell_type": "code",
      "metadata": {
        "colab": {
          "base_uri": "https://localhost:8080/",
          "height": 741
        },
        "id": "EvAcoQq6eq36",
        "outputId": "a69a1633-573d-4bcd-f962-817939c6f4b7"
      },
      "source": [
        "test_param_and_plot('n_estimators',[x for x in range(100,1100,100)])"
      ],
      "execution_count": 89,
      "outputs": [
        {
          "output_type": "stream",
          "text": [
            "[06:09:35] WARNING: /workspace/src/objective/regression_obj.cu:152: reg:linear is now deprecated in favor of reg:squarederror.\n",
            "444.07809490833785   473.88155630105257\n",
            "[06:09:36] WARNING: /workspace/src/objective/regression_obj.cu:152: reg:linear is now deprecated in favor of reg:squarederror.\n",
            "422.93339691025966   460.0466788640275\n",
            "[06:09:37] WARNING: /workspace/src/objective/regression_obj.cu:152: reg:linear is now deprecated in favor of reg:squarederror.\n",
            "412.63319623777676   457.34726877999066\n",
            "[06:09:39] WARNING: /workspace/src/objective/regression_obj.cu:152: reg:linear is now deprecated in favor of reg:squarederror.\n",
            "403.89111732056296   456.76051956159813\n",
            "[06:09:42] WARNING: /workspace/src/objective/regression_obj.cu:152: reg:linear is now deprecated in favor of reg:squarederror.\n",
            "397.44160477480017   456.44389521276287\n",
            "[06:09:46] WARNING: /workspace/src/objective/regression_obj.cu:152: reg:linear is now deprecated in favor of reg:squarederror.\n",
            "390.54483303103495   457.4777134208092\n",
            "[06:09:50] WARNING: /workspace/src/objective/regression_obj.cu:152: reg:linear is now deprecated in favor of reg:squarederror.\n",
            "385.41997692593515   458.4819506320889\n",
            "[06:09:56] WARNING: /workspace/src/objective/regression_obj.cu:152: reg:linear is now deprecated in favor of reg:squarederror.\n",
            "380.8447432324369   459.90844139311554\n",
            "[06:10:01] WARNING: /workspace/src/objective/regression_obj.cu:152: reg:linear is now deprecated in favor of reg:squarederror.\n",
            "375.13945866471295   460.22656557210803\n",
            "[06:10:08] WARNING: /workspace/src/objective/regression_obj.cu:152: reg:linear is now deprecated in favor of reg:squarederror.\n",
            "370.7322631493919   460.85314373755955\n"
          ],
          "name": "stdout"
        },
        {
          "output_type": "display_data",
          "data": {
            "image/png": "[encoded data removed]",
            "text/plain": [
              "<Figure size 720x432 with 1 Axes>"
            ]
          },
          "metadata": {
            "tags": [],
            "needs_background": "light"
          }
        }
      ]
    },
    {
      "cell_type": "markdown",
      "metadata": {
        "id": "Of81PHg_fVKM"
      },
      "source": [
        "### learning_rate"
      ]
    },
    {
      "cell_type": "code",
      "metadata": {
        "colab": {
          "base_uri": "https://localhost:8080/"
        },
        "id": "NpwVV04VfYLu",
        "outputId": "0b3246c7-ee58-4634-818b-73ac5553646f"
      },
      "source": [
        "test_param(learning_rate=0.01)"
      ],
      "execution_count": 92,
      "outputs": [
        {
          "output_type": "stream",
          "text": [
            "[06:12:10] WARNING: /workspace/src/objective/regression_obj.cu:152: reg:linear is now deprecated in favor of reg:squarederror.\n",
            "630.8176011986397   652.2978201501717\n"
          ],
          "name": "stdout"
        },
        {
          "output_type": "execute_result",
          "data": {
            "text/plain": [
              "(630.8176011986397, 652.2978201501717)"
            ]
          },
          "metadata": {
            "tags": []
          },
          "execution_count": 92
        }
      ]
    },
    {
      "cell_type": "code",
      "metadata": {
        "colab": {
          "base_uri": "https://localhost:8080/"
        },
        "id": "Bn-DxoQufcQ7",
        "outputId": "ff67cd6f-75e9-44b5-d1ad-06b4703e80c5"
      },
      "source": [
        "test_param(learning_rate=0.1)"
      ],
      "execution_count": 93,
      "outputs": [
        {
          "output_type": "stream",
          "text": [
            "[06:12:16] WARNING: /workspace/src/objective/regression_obj.cu:152: reg:linear is now deprecated in favor of reg:squarederror.\n",
            "444.07809490833785   473.88155630105257\n"
          ],
          "name": "stdout"
        },
        {
          "output_type": "execute_result",
          "data": {
            "text/plain": [
              "(444.07809490833785, 473.88155630105257)"
            ]
          },
          "metadata": {
            "tags": []
          },
          "execution_count": 93
        }
      ]
    },
    {
      "cell_type": "code",
      "metadata": {
        "colab": {
          "base_uri": "https://localhost:8080/"
        },
        "id": "U1KjPfgdfdNk",
        "outputId": "be7eb94f-64ae-47ac-fd5e-68f092c8b35b"
      },
      "source": [
        "test_param(learning_rate=0.3)"
      ],
      "execution_count": 94,
      "outputs": [
        {
          "output_type": "stream",
          "text": [
            "[06:12:23] WARNING: /workspace/src/objective/regression_obj.cu:152: reg:linear is now deprecated in favor of reg:squarederror.\n",
            "410.1511811671185   462.5996023502818\n"
          ],
          "name": "stdout"
        },
        {
          "output_type": "execute_result",
          "data": {
            "text/plain": [
              "(410.1511811671185, 462.5996023502818)"
            ]
          },
          "metadata": {
            "tags": []
          },
          "execution_count": 94
        }
      ]
    },
    {
      "cell_type": "code",
      "metadata": {
        "colab": {
          "base_uri": "https://localhost:8080/"
        },
        "id": "uriLkEaSfevF",
        "outputId": "8d5b68c0-424e-4a20-de10-646b315b26a9"
      },
      "source": [
        "test_param(learning_rate=0.5)"
      ],
      "execution_count": 95,
      "outputs": [
        {
          "output_type": "stream",
          "text": [
            "[06:12:28] WARNING: /workspace/src/objective/regression_obj.cu:152: reg:linear is now deprecated in favor of reg:squarederror.\n",
            "396.6640842669445   467.25891433942377\n"
          ],
          "name": "stdout"
        },
        {
          "output_type": "execute_result",
          "data": {
            "text/plain": [
              "(396.6640842669445, 467.25891433942377)"
            ]
          },
          "metadata": {
            "tags": []
          },
          "execution_count": 95
        }
      ]
    },
    {
      "cell_type": "code",
      "metadata": {
        "colab": {
          "base_uri": "https://localhost:8080/"
        },
        "id": "MhnS6WtigQ7S",
        "outputId": "f157cdb1-d7cc-4ad5-b26d-88671d3dcf90"
      },
      "source": [
        "test_param(learning_rate=0.9)"
      ],
      "execution_count": 102,
      "outputs": [
        {
          "output_type": "stream",
          "text": [
            "[06:15:58] WARNING: /workspace/src/objective/regression_obj.cu:152: reg:linear is now deprecated in favor of reg:squarederror.\n",
            "381.75444596753147   481.2259670845575\n"
          ],
          "name": "stdout"
        },
        {
          "output_type": "execute_result",
          "data": {
            "text/plain": [
              "(381.75444596753147, 481.2259670845575)"
            ]
          },
          "metadata": {
            "tags": []
          },
          "execution_count": 102
        }
      ]
    },
    {
      "cell_type": "code",
      "metadata": {
        "colab": {
          "base_uri": "https://localhost:8080/"
        },
        "id": "au0VpP-mghtV",
        "outputId": "e0915674-1b2a-4045-b862-571dbc8496e3"
      },
      "source": [
        "test_param(learning_rate=1)"
      ],
      "execution_count": 108,
      "outputs": [
        {
          "output_type": "stream",
          "text": [
            "[06:17:22] WARNING: /workspace/src/objective/regression_obj.cu:152: reg:linear is now deprecated in favor of reg:squarederror.\n",
            "380.5292046143372   489.17613652303794\n"
          ],
          "name": "stdout"
        },
        {
          "output_type": "execute_result",
          "data": {
            "text/plain": [
              "(380.5292046143372, 489.17613652303794)"
            ]
          },
          "metadata": {
            "tags": []
          },
          "execution_count": 108
        }
      ]
    },
    {
      "cell_type": "code",
      "metadata": {
        "colab": {
          "base_uri": "https://localhost:8080/"
        },
        "id": "99sIeeP7fj-r",
        "outputId": "bfd1f5bc-f6d1-4638-bc2e-2f1ea853cd79"
      },
      "source": [
        "test_param(learning_rate=1,max_depth=60,n_estimators=60)"
      ],
      "execution_count": 109,
      "outputs": [
        {
          "output_type": "stream",
          "text": [
            "[06:17:34] WARNING: /workspace/src/objective/regression_obj.cu:152: reg:linear is now deprecated in favor of reg:squarederror.\n",
            "2.108128279024746   558.4712077997586\n"
          ],
          "name": "stdout"
        },
        {
          "output_type": "execute_result",
          "data": {
            "text/plain": [
              "(2.108128279024746, 558.4712077997586)"
            ]
          },
          "metadata": {
            "tags": []
          },
          "execution_count": 109
        }
      ]
    },
    {
      "cell_type": "code",
      "metadata": {
        "colab": {
          "base_uri": "https://localhost:8080/"
        },
        "id": "RaKZCN4mf14N",
        "outputId": "aa1a6212-8c48-4aae-e574-0e58c5bb4c9d"
      },
      "source": [
        "test_param(learning_rate=1,max_depth=60,n_estimators=100)"
      ],
      "execution_count": 110,
      "outputs": [
        {
          "output_type": "stream",
          "text": [
            "[06:17:41] WARNING: /workspace/src/objective/regression_obj.cu:152: reg:linear is now deprecated in favor of reg:squarederror.\n",
            "2.1081282792147418   558.4712058272908\n"
          ],
          "name": "stdout"
        },
        {
          "output_type": "execute_result",
          "data": {
            "text/plain": [
              "(2.1081282792147418, 558.4712058272908)"
            ]
          },
          "metadata": {
            "tags": []
          },
          "execution_count": 110
        }
      ]
    },
    {
      "cell_type": "markdown",
      "metadata": {
        "id": "X9DI9TDEf87C"
      },
      "source": [
        "### booster"
      ]
    },
    {
      "cell_type": "code",
      "metadata": {
        "colab": {
          "base_uri": "https://localhost:8080/"
        },
        "id": "TImYntLkgBOS",
        "outputId": "46f96fe7-d608-4525-b657-6c900d5546cc"
      },
      "source": [
        "test_param(booster='gblinear')"
      ],
      "execution_count": 101,
      "outputs": [
        {
          "output_type": "stream",
          "text": [
            "[06:15:01] WARNING: /workspace/src/objective/regression_obj.cu:152: reg:linear is now deprecated in favor of reg:squarederror.\n",
            "645.2221675246965   663.7754301069033\n"
          ],
          "name": "stdout"
        },
        {
          "output_type": "execute_result",
          "data": {
            "text/plain": [
              "(645.2221675246965, 663.7754301069033)"
            ]
          },
          "metadata": {
            "tags": []
          },
          "execution_count": 101
        }
      ]
    },
    {
      "cell_type": "code",
      "metadata": {
        "colab": {
          "base_uri": "https://localhost:8080/"
        },
        "id": "boFn5B-QgI6I",
        "outputId": "d51ff438-4f39-4856-8262-46f2401ba163"
      },
      "source": [
        "test_param(booster='gblinear',max_depth=60,n_estimators=100,learning_rate=1)"
      ],
      "execution_count": 111,
      "outputs": [
        {
          "output_type": "stream",
          "text": [
            "[06:17:50] WARNING: /workspace/src/objective/regression_obj.cu:152: reg:linear is now deprecated in favor of reg:squarederror.\n",
            "644.9351284921279   663.4404576019873\n"
          ],
          "name": "stdout"
        },
        {
          "output_type": "execute_result",
          "data": {
            "text/plain": [
              "(644.9351284921279, 663.4404576019873)"
            ]
          },
          "metadata": {
            "tags": []
          },
          "execution_count": 111
        }
      ]
    },
    {
      "cell_type": "code",
      "metadata": {
        "colab": {
          "base_uri": "https://localhost:8080/"
        },
        "id": "_EXOX64lgw7g",
        "outputId": "7dd5cdde-b833-4cb6-e1e7-f3fc0a89ad7e"
      },
      "source": [
        "test_param(booster='gbtree',max_depth=60,n_estimators=100,learning_rate=1)"
      ],
      "execution_count": 112,
      "outputs": [
        {
          "output_type": "stream",
          "text": [
            "[06:18:11] WARNING: /workspace/src/objective/regression_obj.cu:152: reg:linear is now deprecated in favor of reg:squarederror.\n",
            "2.1081282792147418   558.4712058272908\n"
          ],
          "name": "stdout"
        },
        {
          "output_type": "execute_result",
          "data": {
            "text/plain": [
              "(2.1081282792147418, 558.4712058272908)"
            ]
          },
          "metadata": {
            "tags": []
          },
          "execution_count": 112
        }
      ]
    },
    {
      "cell_type": "markdown",
      "metadata": {
        "id": "4RYt0Xt4hk63"
      },
      "source": [
        "## Putting it together"
      ]
    },
    {
      "cell_type": "code",
      "metadata": {
        "id": "xskwOe3chnSo"
      },
      "source": [
        "model = XGBRegressor(n_jobs=-1,random_state=42,max_depth=60,n_estimaotrs=100,learning_rate=0.9,booster='gbtree')"
      ],
      "execution_count": 117,
      "outputs": []
    },
    {
      "cell_type": "code",
      "metadata": {
        "colab": {
          "base_uri": "https://localhost:8080/"
        },
        "id": "SHxNkxvLhxTZ",
        "outputId": "339d3966-66d1-4b6d-9170-abd28ccaa4c8"
      },
      "source": [
        "model.fit(x_train,train_targets)"
      ],
      "execution_count": 119,
      "outputs": [
        {
          "output_type": "stream",
          "text": [
            "[06:22:45] WARNING: /workspace/src/objective/regression_obj.cu:152: reg:linear is now deprecated in favor of reg:squarederror.\n"
          ],
          "name": "stdout"
        },
        {
          "output_type": "execute_result",
          "data": {
            "text/plain": [
              "XGBRegressor(base_score=0.5, booster='gbtree', colsample_bylevel=1,\n",
              "             colsample_bynode=1, colsample_bytree=1, gamma=0,\n",
              "             importance_type='gain', learning_rate=0.9, max_delta_step=0,\n",
              "             max_depth=60, min_child_weight=1, missing=None, n_estimaotrs=100,\n",
              "             n_estimators=100, n_jobs=-1, nthread=None, objective='reg:linear',\n",
              "             random_state=42, reg_alpha=0, reg_lambda=1, scale_pos_weight=1,\n",
              "             seed=None, silent=None, subsample=1, verbosity=1)"
            ]
          },
          "metadata": {
            "tags": []
          },
          "execution_count": 119
        }
      ]
    },
    {
      "cell_type": "code",
      "metadata": {
        "colab": {
          "base_uri": "https://localhost:8080/"
        },
        "id": "-WOC7uoSiMaD",
        "outputId": "799ff0a3-a249-47c6-c904-f91c2ca5ccfe"
      },
      "source": [
        "mean_squared_error(model.predict(x_train),train_targets,squared=False)"
      ],
      "execution_count": 123,
      "outputs": [
        {
          "output_type": "execute_result",
          "data": {
            "text/plain": [
              "2.1081282381957456"
            ]
          },
          "metadata": {
            "tags": []
          },
          "execution_count": 123
        }
      ]
    },
    {
      "cell_type": "code",
      "metadata": {
        "colab": {
          "base_uri": "https://localhost:8080/"
        },
        "id": "OBQzCPaViW4-",
        "outputId": "8e452711-cced-4321-e9f3-9838f75f1b7f"
      },
      "source": [
        "mean_squared_error(model.predict(x_val),val_targets,squared=False)"
      ],
      "execution_count": 124,
      "outputs": [
        {
          "output_type": "execute_result",
          "data": {
            "text/plain": [
              "556.6672079327209"
            ]
          },
          "metadata": {
            "tags": []
          },
          "execution_count": 124
        }
      ]
    },
    {
      "cell_type": "code",
      "metadata": {
        "colab": {
          "base_uri": "https://localhost:8080/"
        },
        "id": "jBzY8udKie_I",
        "outputId": "8f83acde-004b-4b6c-8948-2e57d8699ddc"
      },
      "source": [
        "mean_squared_error(model.predict(x_test),test_targets,squared=False)"
      ],
      "execution_count": 127,
      "outputs": [
        {
          "output_type": "execute_result",
          "data": {
            "text/plain": [
              "542.7085676521616"
            ]
          },
          "metadata": {
            "tags": []
          },
          "execution_count": 127
        }
      ]
    },
    {
      "cell_type": "markdown",
      "metadata": {
        "id": "MzeCysQ2nNDj"
      },
      "source": [
        "## Making predictions on new inputs"
      ]
    },
    {
      "cell_type": "markdown",
      "metadata": {
        "id": "Glly_qAgnTn5"
      },
      "source": [
        "Let's  define a helper function which takes in a model and a input and then computes the trip duration"
      ]
    },
    {
      "cell_type": "code",
      "metadata": {
        "id": "MwKruSLdmnhP"
      },
      "source": [
        "def predict_input(model, single_input):\n",
        "    input_df = pd.DataFrame([single_input])\n",
        "    input_df[numeric_col] = imputer.transform(input_df[numeric_col])\n",
        "    input_df[numeric_col] = scaler.transform(input_df[numeric_col])\n",
        "    input_df[enc_col] = encoder.transform(input_df[cate_col])\n",
        "    X_input = input_df[numeric_col + enc_col]\n",
        "    pred = model.predict(X_input)[0]\n",
        "    return pred"
      ],
      "execution_count": 166,
      "outputs": []
    },
    {
      "cell_type": "code",
      "metadata": {
        "colab": {
          "base_uri": "https://localhost:8080/"
        },
        "id": "DHApU43vlFMd",
        "outputId": "5ad35c2c-c61d-4d84-c041-d0a6182b5d2b"
      },
      "source": [
        "inp = {\n",
        "    'vendor_id':1,\n",
        "    'pickup_dateime':'2016-04-01 13:39:13.964110080',\n",
        "    'passenger_count':6,\n",
        "    'pickup_latitude':40.7,\n",
        "    'dropoff_longitude':-73,\n",
        "    'dropoff_latitude':40.7,\n",
        "    'store_and_fwd_flag':'N',\n",
        "    'store_and_fwd_flag_N':1,\n",
        "    'store_and_fwd_flag_Y':0\n",
        "}\n",
        "predict_input(model,inp)"
      ],
      "execution_count": 167,
      "outputs": [
        {
          "output_type": "execute_result",
          "data": {
            "text/plain": [
              "318.1897"
            ]
          },
          "metadata": {
            "tags": []
          },
          "execution_count": 167
        }
      ]
    },
    {
      "cell_type": "markdown",
      "metadata": {
        "id": "VlgxGI06nAnx"
      },
      "source": [
        "So from the given input it's seen that the predicted durationn time 318.1897 seconds"
      ]
    }
  ]
}